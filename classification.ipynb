{
 "cells": [
  {
   "cell_type": "markdown",
   "metadata": {
    "toc": true
   },
   "source": [
    "<h1>Содержание<span class=\"tocSkip\"></span></h1>\n",
    "<div class=\"toc\"><ul class=\"toc-item\"><li><span><a href=\"#Машинное-обучение,-ФКН-ВШЭ\" data-toc-modified-id=\"Машинное-обучение,-ФКН-ВШЭ-1\"><span class=\"toc-item-num\">1&nbsp;&nbsp;</span>Машинное обучение, ФКН ВШЭ</a></span><ul class=\"toc-item\"><li><span><a href=\"#Практическое-задание-4.-Классификация.\" data-toc-modified-id=\"Практическое-задание-4.-Классификация.-1.1\"><span class=\"toc-item-num\">1.1&nbsp;&nbsp;</span>Практическое задание 4. Классификация.</a></span><ul class=\"toc-item\"><li><span><a href=\"#Общая-информация\" data-toc-modified-id=\"Общая-информация-1.1.1\"><span class=\"toc-item-num\">1.1.1&nbsp;&nbsp;</span>Общая информация</a></span></li><li><span><a href=\"#О-задании\" data-toc-modified-id=\"О-задании-1.1.2\"><span class=\"toc-item-num\">1.1.2&nbsp;&nbsp;</span>О задании</a></span></li><li><span><a href=\"#Оценивание-и-штрафы\" data-toc-modified-id=\"Оценивание-и-штрафы-1.1.3\"><span class=\"toc-item-num\">1.1.3&nbsp;&nbsp;</span>Оценивание и штрафы</a></span></li><li><span><a href=\"#Формат-сдачи\" data-toc-modified-id=\"Формат-сдачи-1.1.4\"><span class=\"toc-item-num\">1.1.4&nbsp;&nbsp;</span>Формат сдачи</a></span></li></ul></li></ul></li><li><span><a href=\"#Часть-0.-SVM,-LR-и-калибровка-вероятностей.\" data-toc-modified-id=\"Часть-0.-SVM,-LR-и-калибровка-вероятностей.-2\"><span class=\"toc-item-num\">2&nbsp;&nbsp;</span>Часть 0. SVM, LR и калибровка вероятностей.</a></span></li><li><span><a href=\"#Часть-1.-Работа-с-переменными.\" data-toc-modified-id=\"Часть-1.-Работа-с-переменными.-3\"><span class=\"toc-item-num\">3&nbsp;&nbsp;</span>Часть 1. Работа с переменными.</a></span></li><li><span><a href=\"#Часть-2.-Отбор-признаков\" data-toc-modified-id=\"Часть-2.-Отбор-признаков-4\"><span class=\"toc-item-num\">4&nbsp;&nbsp;</span>Часть 2. Отбор признаков</a></span><ul class=\"toc-item\"><li><ul class=\"toc-item\"><li><span><a href=\"#Встроенные-методы\" data-toc-modified-id=\"Встроенные-методы-4.0.1\"><span class=\"toc-item-num\">4.0.1&nbsp;&nbsp;</span>Встроенные методы</a></span></li><li><span><a href=\"#Методы-фильтрации\" data-toc-modified-id=\"Методы-фильтрации-4.0.2\"><span class=\"toc-item-num\">4.0.2&nbsp;&nbsp;</span>Методы фильтрации</a></span></li><li><span><a href=\"#Методы-обёртки\" data-toc-modified-id=\"Методы-обёртки-4.0.3\"><span class=\"toc-item-num\">4.0.3&nbsp;&nbsp;</span>Методы-обёртки</a></span></li></ul></li></ul></li><li><span><a href=\"#Часть-3.-Оценка-экономического-эффекта-модели\" data-toc-modified-id=\"Часть-3.-Оценка-экономического-эффекта-модели-5\"><span class=\"toc-item-num\">5&nbsp;&nbsp;</span>Часть 3. Оценка экономического эффекта модели</a></span></li></ul></div>"
   ]
  },
  {
   "cell_type": "markdown",
   "metadata": {},
   "source": [
    "# Машинное обучение, ФКН ВШЭ\n",
    "\n",
    "## Практическое задание 4. Классификация. \n",
    "\n",
    "### Общая информация\n",
    "Дата выдачи: 29.10.2020\n",
    "\n",
    "Мягкий дедлайн: 23:59MSK 10.11.2020 (за каждый день просрочки снимается 1 балл)\n",
    "\n",
    "Жесткий дедлайн: 23:59MSK 13.11.2020"
   ]
  },
  {
   "cell_type": "markdown",
   "metadata": {},
   "source": [
    "### О задании\n",
    "\n",
    "В этом задании вы:\n",
    "- ознакомитесь с тем, что происходит \"внутри\" метода опорных векторов и логистической регрессии\n",
    "- познакомитесь с калибровкой вероятности\n",
    "- изучите методы трансформации переменных и методы отбора признаков\n",
    "- попробуете оценить экономический эффект модели\n",
    "\n",
    "\n",
    "### Оценивание и штрафы\n",
    "Каждая из задач имеет определенную «стоимость» (указана в скобках около задачи). Максимально допустимая оценка за работу — 10 баллов.\n",
    "\n",
    "Сдавать задание после указанного срока сдачи нельзя. При выставлении неполного балла за задание в связи с наличием ошибок на усмотрение проверяющего предусмотрена возможность исправить работу на указанных в ответном письме условиях.\n",
    "\n",
    "Задание выполняется самостоятельно. «Похожие» решения считаются плагиатом и все задействованные студенты (в том числе те, у кого списали) не могут получить за него больше 0 баллов (подробнее о плагиате см. на странице курса). Если вы нашли решение какого-то из заданий (или его часть) в открытом источнике, необходимо указать ссылку на этот источник в отдельном блоке в конце вашей работы (скорее всего вы будете не единственным, кто это нашел, поэтому чтобы исключить подозрение в плагиате, необходима ссылка на источник).\n",
    "\n",
    "Неэффективная реализация кода может негативно отразиться на оценке.\n",
    "\n",
    "\n",
    "### Формат сдачи\n",
    "Для сдачи задания переименуйте получившийся файл *.ipynb в соответствии со следующим форматом: homework-practice-04-classification-Username.ipynb, где Username — ваша фамилия и имя на латинице именно в таком порядке (например, homework-practice-04-classification-IvanovIvan.ipynb).\n",
    "\n",
    "Для удобства проверки самостоятельно посчитайте свою максимальную оценку (исходя из набора решенных задач) и укажите ниже.\n",
    "\n",
    "**Оценка**: "
   ]
  },
  {
   "cell_type": "code",
   "execution_count": 1,
   "metadata": {},
   "outputs": [],
   "source": [
    "import numpy as np\n",
    "import pandas as pd\n",
    "import matplotlib.pyplot as plt\n",
    "from sklearn.svm import SVC\n",
    "from sklearn.model_selection import GridSearchCV\n",
    "from sklearn.metrics import auc\n",
    "from sklearn.metrics import precision_recall_curve\n",
    "from sklearn.metrics import make_scorer\n",
    "from sklearn.metrics import roc_auc_score\n",
    "from sklearn.metrics import roc_curve\n",
    "from sklearn.calibration import CalibratedClassifierCV\n",
    "from sklearn.linear_model import LogisticRegression\n",
    "from sklearn.preprocessing import OrdinalEncoder\n",
    "from sklearn.metrics import recall_score\n",
    "from sklearn.metrics import precision_score\n",
    "from sklearn.preprocessing import StandardScaler\n",
    "from sklearn.compose import ColumnTransformer\n",
    "from sklearn.model_selection import KFold\n",
    "import datetime\n",
    "import calendar\n",
    "from imblearn.pipeline import Pipeline\n",
    "from tqdm import tqdm\n",
    "%matplotlib inline\n",
    "\n",
    "pd.set_option('display.max_rows', 100)\n",
    "pd.set_option('display.max_columns', 100)"
   ]
  },
  {
   "cell_type": "markdown",
   "metadata": {},
   "source": [
    "# Часть 0. SVM, LR и калибровка вероятностей. "
   ]
  },
  {
   "cell_type": "markdown",
   "metadata": {},
   "source": [
    "Сгенерируем синтетические данные."
   ]
  },
  {
   "cell_type": "code",
   "execution_count": 2,
   "metadata": {},
   "outputs": [],
   "source": [
    "from sklearn.datasets import make_classification\n",
    "from sklearn.model_selection import train_test_split\n",
    "\n",
    "X, y = make_classification(\n",
    "    n_samples=10000, n_features=10, n_informative=5, n_redundant=5,\n",
    "    random_state=42)\n",
    "\n",
    "X_train, X_test, y_train, y_test = train_test_split(\n",
    "    X, y, test_size=0.3, random_state=42)"
   ]
  },
  {
   "cell_type": "markdown",
   "metadata": {},
   "source": [
    "<img src = 'https://media.giphy.com/media/JsnbYw3mMgObe/giphy.gif'>"
   ]
  },
  {
   "cell_type": "markdown",
   "metadata": {},
   "source": [
    "__Задание 1.__ Обучение и применение метода опорных векторов и логистической регрессии.\n",
    "\n",
    "__(1 балл)__\n",
    "\n",
    "Обучите метод опорных векторов. На занятиях мы проходили линейный вариант без ядрового перехода, что соответствует линейному ядру (`LinearSVC` или же `SVC(kernel='linear')` в `sklearn.svm`). Подберите параметр регуляризации `C` (можете воспользоваться кросс-валидацией или отделить валидационную выборку от обучающей). __Здесь и далее, если не сказано иначе, подбирайте оптимальные гиперпараметры с точки зрения AUC-PR.__"
   ]
  },
  {
   "cell_type": "code",
   "execution_count": 3,
   "metadata": {},
   "outputs": [],
   "source": [
    "def pr_auc(y, y_pred, **kwargs):\n",
    "    \"\"\"\n",
    "    Функция рассчета площади под кривой precision recall\n",
    "    Параметры:\n",
    "    - y: истинные метки\n",
    "    - y_pred: предсказанные метки \n",
    "    Возвращает: Площадь под кривой precision recall\n",
    "    \"\"\"\n",
    "    # Получим данные для построенния PR кривой\n",
    "    prec,rec,thr = precision_recall_curve(y,y_pred)\n",
    "    # предадим полученные данные в подсчет площади под графиком \n",
    "    auc_pr = auc(rec,prec)\n",
    "    return auc_pr"
   ]
  },
  {
   "cell_type": "code",
   "execution_count": 4,
   "metadata": {
    "scrolled": true
   },
   "outputs": [
    {
     "name": "stdout",
     "output_type": "stream",
     "text": [
      "Полощадь под кривой PR на тествовой выборке равна: 0.8331214253644017\n"
     ]
    }
   ],
   "source": [
    "# Создадим скор функции, чтобы использовать ее в подборе параметра\n",
    "pr_score = make_scorer(pr_auc,needs_proba=True,greater_is_better=True)\n",
    "# Инициализируем метод опорных векторов с линейным ядром \n",
    "SVCL = SVC(kernel='linear',probability=True)\n",
    "# Зададим диапазон перебора параметра\n",
    "parametrs_svcl = {'C':np.logspace(-1,-4,10)}\n",
    "# Инициализируем кросс-валидационный перебор параметра\n",
    "grid_svcl = GridSearchCV(SVCL,parametrs_svcl,scoring=pr_score)\n",
    "# Обучим модель\n",
    "grid_svcl.fit(X_train,y_train)\n",
    "# Посмотрим на результат \n",
    "print('Полощадь под кривой PR на тествовой выборке равна:', grid_svcl.score(X_test,y_test))"
   ]
  },
  {
   "cell_type": "markdown",
   "metadata": {},
   "source": [
    "На тестовой части постройте ROC и PR кривые, а также посчитайте AUC-ROC, AUC-PR с точностью до 5 знаков. Сравните AUC-ROC и AUC-PR для вашей модели с этими же метриками для случайного классификатора (который на каждом объекте выдаёт один из двух классов с равными вероятностями)."
   ]
  },
  {
   "cell_type": "code",
   "execution_count": 5,
   "metadata": {},
   "outputs": [
    {
     "name": "stdout",
     "output_type": "stream",
     "text": [
      "Площадь под ROC кривой составила 0.83987, площадь под PR кривой составила 0.83312\n"
     ]
    },
    {
     "data": {
      "image/png": "[encoded data removed]",
      "text/plain": [
       "<Figure size 1080x576 with 2 Axes>"
      ]
     },
     "metadata": {
      "needs_background": "light"
     },
     "output_type": "display_data"
    }
   ],
   "source": [
    "# Предскажем вероятноти классов\n",
    "y_pred = grid_svcl.predict_proba(X_test)\n",
    "# Рассчитаем данные для построения PR кривой\n",
    "precision,recall,thr = precision_recall_curve(y_test,y_pred[:,1])\n",
    "# Рассчитаем данные для построения ROC кривой\n",
    "fpr,tpr,thr_roc = roc_curve(y_test,y_pred[:,1])\n",
    "# Инициализируем фигуру с двумя столбцами для графика\n",
    "fig,ax = plt.subplots(1,2,figsize = (15,8))\n",
    "# Рассчитаем ROC-AUC\n",
    "roc_auc = roc_auc_score(y_test,y_pred[:,1])\n",
    "# Рассчитаем PR-AUC\n",
    "pr_auc_score = pr_auc(y_test,y_pred[:,1])\n",
    "# Построим PR кривую\n",
    "ax[0].plot(recall,precision,label = f'PR curve SVC with linear kernel (PR-AUC: {round(roc_auc,5)})')\n",
    "# Построим случайный клссификатор\n",
    "ax[0].plot(np.arange(0,1.1,0.1),[0.5]*11,label = 'BaseLine',ls = '--')\n",
    "# Зададим подпись для оси х\n",
    "ax[0].set_xlabel('Recall',fontsize = 14)\n",
    "# Зададим подпись для оси у\n",
    "ax[0].set_ylabel('Precosion',fontsize = 14)\n",
    "# Зададим подпись для графика\n",
    "ax[0].set_title('PR curve',fontsize = 16)\n",
    "# Отобразим наши подписи внутри графиков\n",
    "ax[0].legend()\n",
    "# Построим ROC кривую\n",
    "ax[1].plot(fpr,tpr,label = f'ROC curve SVC with linear kernel (ROC-AUC: {round(pr_auc_score,5)})')\n",
    "# Построим случайный клссификатор\n",
    "ax[1].plot(np.arange(0,1.1,0.1),np.arange(0,1.1,0.1),label = 'BaseLine',ls = '--')\n",
    "# Зададим подпись для оси х\n",
    "ax[1].set_xlabel('TPR',fontsize = 14)\n",
    "# Зададим подпись для оси у\n",
    "ax[1].set_ylabel('FPR',fontsize = 14)\n",
    "# Зададим подпись для графика\n",
    "ax[1].set_title('ROC curve',fontsize = 16)\n",
    "# Отобразим наши подписи внутри графиков\n",
    "ax[1].legend();\n",
    "# Выведем значения площадей под кривыми\n",
    "print(f'Площадь под ROC кривой составила {round(roc_auc,5)}, площадь под PR кривой составила {round(pr_auc_score,5)}')"
   ]
  },
  {
   "cell_type": "markdown",
   "metadata": {},
   "source": [
    "А теперь проделайте все то же самое для логистической регрессии (LR) — обучение, подбор параметра регуляризации (используйте L2-регуляризацию), вычисление всех метрик и построение кривых. Сравните результаты LR и SVM с точки зрения всех вычисленных критериев качества, объясните различия (если они есть)."
   ]
  },
  {
   "cell_type": "code",
   "execution_count": 6,
   "metadata": {
    "scrolled": true
   },
   "outputs": [
    {
     "name": "stdout",
     "output_type": "stream",
     "text": [
      "Полощадь под кривой PR на тествовой выборке равна: 0.8291678007844085\n"
     ]
    }
   ],
   "source": [
    "# Создадим скор функции, чтобы использовать ее в подборе параметра\n",
    "pr_score = make_scorer(pr_auc,needs_proba=True,greater_is_better=True)\n",
    "# Инициализируем метод опорных векторов с линейным ядром \n",
    "Logreg = LogisticRegression(max_iter=1000)\n",
    "# Зададим диапазон перебора параметра\n",
    "parametrs_Logreg = {'C':np.logspace(-1,0,10)}\n",
    "# Инициализируем кросс-валидационный перебор параметра\n",
    "grid_Logreg = GridSearchCV(Logreg,parametrs_Logreg,scoring=pr_score)\n",
    "# Обучим модель\n",
    "grid_Logreg.fit(X_train,y_train)\n",
    "# Посмотрим на результат \n",
    "print('Полощадь под кривой PR на тествовой выборке равна:', grid_Logreg.score(X_test,y_test))"
   ]
  },
  {
   "cell_type": "code",
   "execution_count": 7,
   "metadata": {},
   "outputs": [
    {
     "name": "stdout",
     "output_type": "stream",
     "text": [
      "Площадь под ROC кривой составила 0.84785, площадь под PR кривой составила 0.82917\n"
     ]
    },
    {
     "data": {
      "image/png": "[encoded data removed]",
      "text/plain": [
       "<Figure size 1080x576 with 2 Axes>"
      ]
     },
     "metadata": {
      "needs_background": "light"
     },
     "output_type": "display_data"
    }
   ],
   "source": [
    "# Предскажем вероятноти классов\n",
    "y_pred = grid_Logreg.predict_proba(X_test)\n",
    "# Рассчитаем данные для построения PR кривой\n",
    "precision,recall,thr = precision_recall_curve(y_test,y_pred[:,1])\n",
    "# Рассчитаем данные для построения ROC кривой\n",
    "fpr,tpr,thr_roc = roc_curve(y_test,y_pred[:,1])\n",
    "# Инициализируем фигуру с двумя столбцами для графика\n",
    "fig,ax = plt.subplots(1,2,figsize = (15,8))\n",
    "# Рассчитаем ROC-AUC\n",
    "roc_auc = roc_auc_score(y_test,y_pred[:,1])\n",
    "# Рассчитаем PR-AUC\n",
    "pr_auc_score = pr_auc(y_test,y_pred[:,1])\n",
    "# Построим PR кривую\n",
    "ax[0].plot(recall,precision,label = f'PR curve Logistic regression (PR-AUC: {round(roc_auc,5)})')\n",
    "# Построим случайный клссификатор\n",
    "ax[0].plot(np.arange(0,1.1,0.1),[0.5]*11,label = 'BaseLine',ls = '--')\n",
    "# Зададим подпись для оси х\n",
    "ax[0].set_xlabel('Recall',fontsize = 14)\n",
    "# Зададим подпись для оси у\n",
    "ax[0].set_ylabel('Precosion',fontsize = 14)\n",
    "# Зададим подпись для графика\n",
    "ax[0].set_title('PR curve',fontsize = 16)\n",
    "# Отобразим наши подписи внутри графиков\n",
    "ax[0].legend()\n",
    "# Построим ROC кривую\n",
    "ax[1].plot(fpr,tpr,label = f'ROC curve Logistic regression (ROC-AUC: {round(pr_auc_score,5)})')\n",
    "# Построим случайный клссификатор\n",
    "ax[1].plot(np.arange(0,1.1,0.1),np.arange(0,1.1,0.1),label = 'BaseLine',ls = '--')\n",
    "# Зададим подпись для оси х\n",
    "ax[1].set_xlabel('TPR',fontsize = 14)\n",
    "# Зададим подпись для оси у\n",
    "ax[1].set_ylabel('FPR',fontsize = 14)\n",
    "# Зададим подпись для графика\n",
    "ax[1].set_title('ROC curve',fontsize = 16)\n",
    "# Отобразим наши подписи внутри графиков\n",
    "ax[1].legend();\n",
    "# Выведем значения площадей под кривыми\n",
    "print(f'Площадь под ROC кривой составила {round(roc_auc,5)}, площадь под PR кривой составила {round(pr_auc_score,5)}')"
   ]
  },
  {
   "cell_type": "markdown",
   "metadata": {},
   "source": [
    "В названии метода опорных векторов присутствуют некоторые \"опорные векторы\". Сгенерируйте синтетические данные с помощью `make_classification` с 2 признаками, обучите на нём метод опорных векторов. Визуализируйте разделяющую прямую, все объекты и выделите опорные векторы (атрибут `support_vectors_`). В этот раз, если необходимо, вместо `LinearSVC` воспользуйтесь `SVC(kernel='linear')`, так как только в нём есть информация об опорных векторах."
   ]
  },
  {
   "cell_type": "code",
   "execution_count": 8,
   "metadata": {},
   "outputs": [],
   "source": [
    "# Сгенерируем синтетические данные\n",
    "X, y = make_classification(\n",
    "    n_samples=100, n_features=2, n_informative=2, n_redundant=0,n_clusters_per_class=2,class_sep=2,\n",
    "    random_state=42)\n"
   ]
  },
  {
   "cell_type": "code",
   "execution_count": 9,
   "metadata": {},
   "outputs": [
    {
     "data": {
      "text/plain": [
       "GridSearchCV(estimator=SVC(kernel='linear', probability=True),\n",
       "             param_grid={'C': array([0.1       , 0.04641589, 0.02154435, 0.01      , 0.00464159,\n",
       "       0.00215443, 0.001     , 0.00046416, 0.00021544, 0.0001    ])},\n",
       "             scoring=make_scorer(pr_auc, needs_proba=True))"
      ]
     },
     "execution_count": 9,
     "metadata": {},
     "output_type": "execute_result"
    }
   ],
   "source": [
    "# Создадим скор функции, чтобы использовать ее в подборе параметра\n",
    "pr_score = make_scorer(pr_auc,needs_proba=True,greater_is_better=True)\n",
    "# Инициализируем метод опорных векторов с линейным ядром \n",
    "SVCLs = SVC(kernel='linear',probability=True)\n",
    "# Зададим диапазон перебора параметра\n",
    "parametrs_svcls = {'C':np.logspace(-1,-4,10)}\n",
    "# Инициализируем кросс-валидационный перебор параметра\n",
    "grid_svcls = GridSearchCV(SVCLs,parametrs_svcls,scoring=pr_score)\n",
    "# Обучим модель\n",
    "grid_svcls.fit(X,y)\n",
    "# Посмотрим на результат \n",
    "# print('Полощадь под кривой PR на тествовой выборке равна:', grid_svcls.score(X_test_svc,y_test_svc))"
   ]
  },
  {
   "cell_type": "code",
   "execution_count": 10,
   "metadata": {},
   "outputs": [
    {
     "data": {
      "image/png": "[encoded data removed]",
      "text/plain": [
       "<Figure size 432x288 with 1 Axes>"
      ]
     },
     "metadata": {
      "needs_background": "light"
     },
     "output_type": "display_data"
    }
   ],
   "source": [
    "################################################################################################################\n",
    "# Дисклеймер! Часть кода взята отсюда:                                                                         #\n",
    "# http://ogrisel.github.io/scikit-learn.org/sklearn-tutorial/auto_examples/svm/plot_separating_hyperplane.html #\n",
    "################################################################################################################\n",
    "\n",
    "sup_vectors = grid_svcls.best_estimator_.support_vectors_\n",
    "# get the separating hyperplane\n",
    "w = grid_svcls.best_estimator_.coef_[0]\n",
    "a = -w[0] / w[1]\n",
    "xx = np.linspace(-5, 5)\n",
    "yy = a * xx - (grid_svcls.best_estimator_.intercept_[0]) / w[1]\n",
    "# plot the parallels to the separating hyperplane that pass through the\n",
    "# support vectors\n",
    "b = grid_svcls.best_estimator_.support_vectors_[0]\n",
    "yy_down = a * xx + (b[1] - a * b[0])\n",
    "b = grid_svcls.best_estimator_.support_vectors_[-1]\n",
    "yy_up = a * xx + (b[1] - a * b[0])\n",
    "\n",
    "# plot the line, the points, and the nearest vectors to the plane\n",
    "plt.set_cmap(plt.cm.Paired)\n",
    "plt.plot(xx, yy, 'k-')\n",
    "plt.plot(xx, yy_down, 'k--')\n",
    "plt.plot(xx, yy_up, 'k--')\n",
    "\n",
    "plt.scatter(grid_svcls.best_estimator_.support_vectors_[:, 0], grid_svcls.best_estimator_.support_vectors_[:, 1], facecolors='none')\n",
    "plt.scatter(X[:, 0], X[:, 1], c=y)\n",
    "plt.xlabel('first_feature')\n",
    "plt.ylabel('second_feature')\n",
    "plt.title('SVC: support vectors')\n",
    "plt.axis('tight')\n",
    "plt.show()"
   ]
  },
  {
   "cell_type": "markdown",
   "metadata": {},
   "source": [
    "В отличие от метода опорных векторов, логистическая регрессия не пытается построить разделяющую гиперплоскость с максимальным отступом, а приближает в каждой точке пространства объектов вероятность положительных ответов $p(y=+1|x)$. Попробуйте нарисовать это распределение на плоскости, не забудьте отметить на ней все объекты. Вам может помочь функция `plt.pcolor`."
   ]
  },
  {
   "cell_type": "code",
   "execution_count": 11,
   "metadata": {
    "scrolled": true
   },
   "outputs": [
    {
     "data": {
      "text/plain": [
       "GridSearchCV(estimator=LogisticRegression(max_iter=1000),\n",
       "             param_grid={'C': array([0.1       , 0.12915497, 0.16681005, 0.21544347, 0.27825594,\n",
       "       0.35938137, 0.46415888, 0.59948425, 0.77426368, 1.        ])},\n",
       "             scoring=make_scorer(pr_auc, needs_proba=True))"
      ]
     },
     "execution_count": 11,
     "metadata": {},
     "output_type": "execute_result"
    }
   ],
   "source": [
    "# Создадим скор функции, чтобы использовать ее в подборе параметра\n",
    "pr_score = make_scorer(pr_auc,needs_proba=True,greater_is_better=True)\n",
    "# Инициализируем метод опорных векторов с линейным ядром \n",
    "Logregs = LogisticRegression(max_iter=1000)\n",
    "# Зададим диапазон перебора параметра\n",
    "parametrs_Logregs = {'C':np.logspace(-1,0,10)}\n",
    "# Инициализируем кросс-валидационный перебор параметра\n",
    "grid_Logregs = GridSearchCV(Logregs,parametrs_Logregs,scoring=pr_score)\n",
    "# Обучим модель\n",
    "grid_Logregs.fit(X,y)"
   ]
  },
  {
   "cell_type": "code",
   "execution_count": 12,
   "metadata": {
    "scrolled": false
   },
   "outputs": [
    {
     "data": {
      "image/png": "[encoded data removed]",
      "text/plain": [
       "<Figure size 432x288 with 1 Axes>"
      ]
     },
     "metadata": {
      "needs_background": "light"
     },
     "output_type": "display_data"
    }
   ],
   "source": [
    "#############################################################################################\n",
    "# Дисклеймер! Часть кода взята отсюда:                                                      #\n",
    "# https://scipython.com/blog/plotting-the-decision-boundary-of-a-logistic-regression-model/ #\n",
    "#############################################################################################\n",
    "# Retrieve the model parameters.\n",
    "b = grid_Logregs.best_estimator_.intercept_[0]\n",
    "w1, w2 = grid_Logregs.best_estimator_.coef_.T\n",
    "# Calculate the intercept and gradient of the decision boundary.\n",
    "c = -b/w2\n",
    "m = -w1/w2\n",
    "\n",
    "# Plot the data and the classification with the decision boundary.\n",
    "xmin, xmax = -4, 4\n",
    "ymin, ymax = -4, 4\n",
    "xd = np.array([xmin, xmax])\n",
    "yd = m*xd + c\n",
    "plt.plot(xd, yd, 'k', lw=1, ls='--')\n",
    "plt.fill_between(xd, yd, ymin, color='tab:orange', alpha=0.2)\n",
    "plt.fill_between(xd, yd, ymax, color='tab:blue', alpha=0.2)\n",
    "\n",
    "plt.scatter(*X[y==0].T, s=8, alpha=0.5)\n",
    "plt.scatter(*X[y==1].T, s=8, alpha=0.5)\n",
    "plt.xlim(xmin, xmax)\n",
    "plt.ylim(ymin, ymax)\n",
    "plt.title('Logistic regression')\n",
    "plt.ylabel(r'$x_2$')\n",
    "plt.xlabel(r'$x_1$')\n",
    "\n",
    "plt.show()"
   ]
  },
  {
   "cell_type": "markdown",
   "metadata": {},
   "source": [
    "<img src = 'https://media.giphy.com/media/9lMoyThpKynde/giphy.gif'>"
   ]
  },
  {
   "cell_type": "markdown",
   "metadata": {},
   "source": [
    "__Задание 2.__ Калибровка вероятностей.\n",
    "\n",
    "__(1 балл)__\n",
    "\n",
    "Перейдём к оценке качества выдаваемых алгоритмами вероятностей. Начнём с калибровочных кривых. \n",
    "\n",
    "Допустим, алгоритм возвращает некоторые числа от нуля до единицы. Хорошо ли они оценивают вероятность? Для этого разобьем отрезок $[0, 1]$ на несколько маленьких отрезков одинаковой длины. Рассмотрим $i$-й отрезок с границами $[a_i, b_i]$ и предсказания $p_1, p_2, \\dots, p_k$, которые попали в него. Пусть им соответствуют истинные ответы $y_1, y_2, \\dots, y_k$. Если алгоритм выдает корректные вероятности, то среди этих истинных ответов должно быть примерно $(a_i + b_i) / 2$ единиц. Иными словами, если нарисовать кривую, у которой по оси X отложены центры отрезков, а по оси Y — доли единичных ответов этих в отрезках, то она должна оказаться диагональной. Ниже приведена функция, которая должна рисовать такие кривые. В ней допущено две ошибки — найдите и исправьте их."
   ]
  },
  {
   "cell_type": "code",
   "execution_count": 13,
   "metadata": {},
   "outputs": [],
   "source": [
    "def plot_calibration_curve(y_test, preds):\n",
    "    bin_middle_points = []\n",
    "    bin_real_ratios = []\n",
    "    n_bins = 10\n",
    "    for i in range(n_bins):\n",
    "        l = 1.0 / n_bins * i\n",
    "        r = 1.0 / n_bins * (i + 1)\n",
    "        bin_middle_points.append((l + r) / 2) # заменил - на +\n",
    "        bin_real_ratios.append(np.mean(y_test[(preds >= l) & (preds < r)] == 1)) # заменил min на mean\n",
    "    plt.figure(figsize=(6,6))\n",
    "    plt.plot(bin_middle_points, bin_real_ratios)\n",
    "    plt.ylim([-0.05, 1.05])\n",
    "    plt.grid()"
   ]
  },
  {
   "cell_type": "markdown",
   "metadata": {},
   "source": [
    "Сгенерируйте синтетические данные аналогично использованным в самом первом задании. Постройте калибровочные кривые на тестовой части для логистической регрессии и метода опорных векторов (не забудьте перевести его предсказания в $[0;1]$). Изучите распределение ответов классификаторов (постройте гистограммы с помощью `plt.hist`). Чем они различаются? Чем вы можете объяснить это?"
   ]
  },
  {
   "cell_type": "code",
   "execution_count": 14,
   "metadata": {},
   "outputs": [],
   "source": [
    "X, y = make_classification(\n",
    "    n_samples=10000, n_features=10, n_informative=5, n_redundant=5,\n",
    "    random_state=42)\n",
    "\n",
    "X_train, X_test, y_train, y_test = train_test_split(\n",
    "    X, y, test_size=0.3, random_state=42)"
   ]
  },
  {
   "cell_type": "code",
   "execution_count": 15,
   "metadata": {},
   "outputs": [
    {
     "name": "stdout",
     "output_type": "stream",
     "text": [
      "Полощадь под кривой PR на тествовой выборке равна: 0.8291678007844085\n"
     ]
    }
   ],
   "source": [
    "# Создадим скор функции, чтобы использовать ее в подборе параметра\n",
    "pr_score = make_scorer(pr_auc,needs_proba=True,greater_is_better=True)\n",
    "# Инициализируем \n",
    "Logreg = LogisticRegression(max_iter=1000)\n",
    "# Зададим диапазон перебора параметра\n",
    "parametrs_Logreg = {'C':np.logspace(-1,0,10)}\n",
    "# Инициализируем кросс-валидационный перебор параметра\n",
    "grid_Logreg = GridSearchCV(Logreg,parametrs_Logreg,scoring=pr_score)\n",
    "# Обучим модель\n",
    "grid_Logreg.fit(X_train,y_train)\n",
    "# Посмотрим на результат \n",
    "print('Полощадь под кривой PR на тествовой выборке равна:', grid_Logreg.score(X_test,y_test))"
   ]
  },
  {
   "cell_type": "code",
   "execution_count": 16,
   "metadata": {
    "scrolled": true
   },
   "outputs": [
    {
     "data": {
      "image/png": "[encoded data removed]",
      "text/plain": [
       "<Figure size 432x432 with 1 Axes>"
      ]
     },
     "metadata": {
      "needs_background": "light"
     },
     "output_type": "display_data"
    }
   ],
   "source": [
    "plot_calibration_curve(y_test, grid_Logreg.decision_function(X_test))"
   ]
  },
  {
   "cell_type": "code",
   "execution_count": 17,
   "metadata": {
    "scrolled": true
   },
   "outputs": [
    {
     "name": "stdout",
     "output_type": "stream",
     "text": [
      "Полощадь под кривой PR на тествовой выборке равна: 0.8331262977333072\n"
     ]
    }
   ],
   "source": [
    "# Создадим скор функции, чтобы использовать ее в подборе параметра\n",
    "pr_score = make_scorer(pr_auc,needs_proba=True,greater_is_better=True)\n",
    "# Инициализируем метод опорных векторов с линейным ядром \n",
    "SVCL = SVC(kernel='linear',probability=True)\n",
    "# Зададим диапазон перебора параметра\n",
    "parametrs_svcl = {'C':np.logspace(-1,-4,10)}\n",
    "# Инициализируем кросс-валидационный перебор параметра\n",
    "grid_svcl = GridSearchCV(SVCL,parametrs_svcl,scoring=pr_score)\n",
    "# Обучим модель\n",
    "grid_svcl.fit(X_train,y_train)\n",
    "# Посмотрим на результат \n",
    "print('Полощадь под кривой PR на тествовой выборке равна:', grid_svcl.score(X_test,y_test))"
   ]
  },
  {
   "cell_type": "code",
   "execution_count": 18,
   "metadata": {
    "scrolled": true
   },
   "outputs": [
    {
     "data": {
      "image/png": "[encoded data removed]",
      "text/plain": [
       "<Figure size 432x432 with 1 Axes>"
      ]
     },
     "metadata": {
      "needs_background": "light"
     },
     "output_type": "display_data"
    }
   ],
   "source": [
    "plot_calibration_curve(y_test, grid_svcl.decision_function(X_test))"
   ]
  },
  {
   "cell_type": "code",
   "execution_count": 19,
   "metadata": {
    "scrolled": true
   },
   "outputs": [
    {
     "data": {
      "image/png": "[encoded data removed]",
      "text/plain": [
       "<Figure size 432x288 with 1 Axes>"
      ]
     },
     "metadata": {
      "needs_background": "light"
     },
     "output_type": "display_data"
    }
   ],
   "source": [
    "plt.hist(grid_Logreg.decision_function(X_test),bins = 30,label ='LogReg')\n",
    "plt.hist(grid_svcl.decision_function(X_test),bins = 30,alpha = 0.7,label = 'SVC')\n",
    "plt.xlabel('Уверенность')\n",
    "plt.ylabel('Кол-во объектов с такими значениями')\n",
    "plt.title('Распределение уверенности')\n",
    "plt.legend();"
   ]
  },
  {
   "cell_type": "markdown",
   "metadata": {},
   "source": [
    "Можно заметить, что распределение уверенности LogReg более плавное и менее пико-образное. Это может быть связано с тем, что логистическая регрессия более уверена в своих ответах, нежели метод опорных векторов, который выдает значения недалеко от 0"
   ]
  },
  {
   "cell_type": "markdown",
   "metadata": {},
   "source": [
    "Воспользуйтесь `CalibratedClassifierCV` из `sklearn` для калибровки вероятностей метода опорных векторов на обучении и постройте с его помощью предсказания для тестовой выборки. Нарисуйте для них калибровочную кривую. Улучшилась ли она?"
   ]
  },
  {
   "cell_type": "code",
   "execution_count": 20,
   "metadata": {},
   "outputs": [
    {
     "name": "stdout",
     "output_type": "stream",
     "text": [
      "Полощадь под кривой PR на тествовой выборке равна: 0.7726666666666666\n"
     ]
    }
   ],
   "source": [
    "# Создадим скор функции, чтобы использовать ее в подборе параметра\n",
    "pr_score = make_scorer(pr_auc,needs_proba=True,greater_is_better=True)\n",
    "# Инициализируем метод опорных векторов с линейным ядром \n",
    "SVCL = SVC(kernel='linear',probability=True)\n",
    "\n",
    "# Инициализируем кросс-валидационный перебор параметра\n",
    "grid_svcl = CalibratedClassifierCV(SVCL)\n",
    "# Обучим модель\n",
    "grid_svcl.fit(X_train,y_train)\n",
    "# Посмотрим на результат \n",
    "print('Полощадь под кривой PR на тествовой выборке равна:', grid_svcl.score(X_test,y_test))"
   ]
  },
  {
   "cell_type": "code",
   "execution_count": 21,
   "metadata": {},
   "outputs": [
    {
     "data": {
      "text/plain": [
       "SVC(kernel='linear', probability=True)"
      ]
     },
     "execution_count": 21,
     "metadata": {},
     "output_type": "execute_result"
    }
   ],
   "source": [
    "grid_svcl.calibrated_classifiers_[0].base_estimator"
   ]
  },
  {
   "cell_type": "code",
   "execution_count": 22,
   "metadata": {},
   "outputs": [
    {
     "data": {
      "image/png": "[encoded data removed]",
      "text/plain": [
       "<Figure size 432x432 with 1 Axes>"
      ]
     },
     "metadata": {
      "needs_background": "light"
     },
     "output_type": "display_data"
    }
   ],
   "source": [
    "plot_calibration_curve(y_test, grid_svcl.calibrated_classifiers_[0].base_estimator.predict_proba(X_test)[:,1])"
   ]
  },
  {
   "cell_type": "code",
   "execution_count": 23,
   "metadata": {
    "scrolled": true
   },
   "outputs": [
    {
     "name": "stdout",
     "output_type": "stream",
     "text": [
      "Полощадь под кривой PR на тествовой выборке равна: 0.7713333333333333\n"
     ]
    }
   ],
   "source": [
    "# Создадим скор функции, чтобы использовать ее в подборе параметра\n",
    "pr_score = make_scorer(pr_auc,needs_proba=True,greater_is_better=True)\n",
    "# Инициализируем метод опорных векторов с линейным ядром \n",
    "Logreg = LogisticRegression(max_iter=1000)\n",
    "# Инициализируем кросс-валидационный перебор параметра\n",
    "grid_Logreg = CalibratedClassifierCV(Logreg)\n",
    "# Обучим модель\n",
    "grid_Logreg.fit(X_train,y_train)\n",
    "# Посмотрим на результат \n",
    "print('Полощадь под кривой PR на тествовой выборке равна:', grid_Logreg.score(X_test,y_test))"
   ]
  },
  {
   "cell_type": "code",
   "execution_count": 24,
   "metadata": {},
   "outputs": [
    {
     "data": {
      "image/png": "[encoded data removed]",
      "text/plain": [
       "<Figure size 432x432 with 1 Axes>"
      ]
     },
     "metadata": {
      "needs_background": "light"
     },
     "output_type": "display_data"
    }
   ],
   "source": [
    "plot_calibration_curve(y_test, grid_Logreg.calibrated_classifiers_[0].base_estimator.predict_proba(X_test)[:,1])"
   ]
  },
  {
   "cell_type": "markdown",
   "metadata": {},
   "source": [
    "После калибровки график больше похож на ровную диагональную прямую"
   ]
  },
  {
   "cell_type": "markdown",
   "metadata": {},
   "source": [
    "Похоже, после калибровки все стало лучше, но не идеально\n",
    "<img src = 'https://media.giphy.com/media/SwWrhzXVM7NdK/giphy.gif'>"
   ]
  },
  {
   "cell_type": "markdown",
   "metadata": {},
   "source": [
    "__Бонусное задание (0.5 балла).__ Реализуйте свою функцию для калибровки вероятностей. Опишите ваш подход и продемонстрируйте результаты. Ключевые слова для вдохновения: `Platt`, `Isotonic`."
   ]
  },
  {
   "cell_type": "code",
   "execution_count": 25,
   "metadata": {},
   "outputs": [],
   "source": [
    "#your code here"
   ]
  },
  {
   "cell_type": "markdown",
   "metadata": {},
   "source": [
    "# Часть 1. Работа с переменными."
   ]
  },
  {
   "cell_type": "markdown",
   "metadata": {},
   "source": [
    "В этой части мы научимся обрабатывать категориальные переменные, так как закодировать их в виде чисел недостаточно (это задаёт некоторый порядок, которого на категориальных переменных может и не быть). Существует два основных способа обработки категориальных значений:\n",
    "- One-hot-кодирование\n",
    "- Счётчики (CTR, mean-target кодирование, ...) — каждый категориальный признак заменяется на среднее значение целевой переменной по всем объектам, имеющим одинаковое значение в этом признаке.\n",
    "\n",
    "Начнём с one-hot-кодирования. Допустим наш категориальный признак $f_j(x)$ принимает значения из множества $C=\\{c_1, \\dots, c_m\\}$. Заменим его на $m$ бинарных признаков $b_1(x), \\dots, b_m(x)$, каждый из которых является индикатором одного из возможных категориальных значений:\n",
    "$$\n",
    "b_i(x) = [f_j(x) = c_i]\n",
    "$$"
   ]
  },
  {
   "cell_type": "markdown",
   "metadata": {},
   "source": [
    "__Подготовка данных.__\n",
    "\n",
    "Загрузим данные [UCI Bank Marketing Dataset](https://archive.ics.uci.edu/ml/datasets/bank+marketing). Этот датасет содержит информацию о банковском телефонном маркетинге, объектом в нем является телефонный звонок потенциальному клиенту с предложением некоторой услуги (утверждается, что это краткосрочный депозит), целевой переменной - ответ клиента (согласился ли он открыть депозит?). В качестве признакового описания используются характеристики клиента (образование, брак и т.д.), данные о звонке и различные экономические индикаторы - более подробная информация представлена в файле `bank-additional-names.txt`."
   ]
  },
  {
   "cell_type": "code",
   "execution_count": 26,
   "metadata": {
    "scrolled": true
   },
   "outputs": [
    {
     "name": "stdout",
     "output_type": "stream",
     "text": [
      "--2021-11-10 18:08:49--  https://archive.ics.uci.edu/ml/machine-learning-databases/00222/bank-additional.zip\n",
      "Resolving archive.ics.uci.edu (archive.ics.uci.edu)... 128.195.10.252\n",
      "Connecting to archive.ics.uci.edu (archive.ics.uci.edu)|128.195.10.252|:443... connected.\n",
      "HTTP request sent, awaiting response... 200 OK\n",
      "Length: 444572 (434K) [application/x-httpd-php]\n",
      "Saving to: ‘bank-additional.zip’\n",
      "\n",
      "bank-additional.zip 100%[===================>] 434,15K   411KB/s    in 1,1s    \n",
      "\n",
      "2021-11-10 18:08:51 (411 KB/s) - ‘bank-additional.zip’ saved [444572/444572]\n",
      "\n",
      "Archive:  bank-additional.zip\n",
      "   creating: bank-additional/\n",
      "  inflating: bank-additional/.DS_Store  \n",
      "   creating: __MACOSX/\n",
      "   creating: __MACOSX/bank-additional/\n",
      "  inflating: __MACOSX/bank-additional/._.DS_Store  \n",
      "  inflating: bank-additional/.Rhistory  \n",
      "  inflating: bank-additional/bank-additional-full.csv  \n",
      "  inflating: bank-additional/bank-additional-names.txt  \n",
      "  inflating: bank-additional/bank-additional.csv  \n",
      "  inflating: __MACOSX/._bank-additional  \n"
     ]
    }
   ],
   "source": [
    "!wget https://archive.ics.uci.edu/ml/machine-learning-databases/00222/bank-additional.zip\n",
    "!unzip bank-additional.zip\n"
   ]
  },
  {
   "cell_type": "code",
   "execution_count": 27,
   "metadata": {},
   "outputs": [
    {
     "data": {
      "text/html": [
       "<div>\n",
       "<style scoped>\n",
       "    .dataframe tbody tr th:only-of-type {\n",
       "        vertical-align: middle;\n",
       "    }\n",
       "\n",
       "    .dataframe tbody tr th {\n",
       "        vertical-align: top;\n",
       "    }\n",
       "\n",
       "    .dataframe thead th {\n",
       "        text-align: right;\n",
       "    }\n",
       "</style>\n",
       "<table border=\"1\" class=\"dataframe\">\n",
       "  <thead>\n",
       "    <tr style=\"text-align: right;\">\n",
       "      <th></th>\n",
       "      <th>age</th>\n",
       "      <th>job</th>\n",
       "      <th>marital</th>\n",
       "      <th>education</th>\n",
       "      <th>default</th>\n",
       "      <th>housing</th>\n",
       "      <th>loan</th>\n",
       "      <th>contact</th>\n",
       "      <th>month</th>\n",
       "      <th>day_of_week</th>\n",
       "      <th>duration</th>\n",
       "      <th>campaign</th>\n",
       "      <th>pdays</th>\n",
       "      <th>previous</th>\n",
       "      <th>poutcome</th>\n",
       "      <th>emp.var.rate</th>\n",
       "      <th>cons.price.idx</th>\n",
       "      <th>cons.conf.idx</th>\n",
       "      <th>euribor3m</th>\n",
       "      <th>nr.employed</th>\n",
       "      <th>y</th>\n",
       "    </tr>\n",
       "  </thead>\n",
       "  <tbody>\n",
       "    <tr>\n",
       "      <th>0</th>\n",
       "      <td>56</td>\n",
       "      <td>housemaid</td>\n",
       "      <td>married</td>\n",
       "      <td>basic.4y</td>\n",
       "      <td>no</td>\n",
       "      <td>no</td>\n",
       "      <td>no</td>\n",
       "      <td>telephone</td>\n",
       "      <td>may</td>\n",
       "      <td>mon</td>\n",
       "      <td>261</td>\n",
       "      <td>1</td>\n",
       "      <td>999</td>\n",
       "      <td>0</td>\n",
       "      <td>nonexistent</td>\n",
       "      <td>1.1</td>\n",
       "      <td>93.994</td>\n",
       "      <td>-36.4</td>\n",
       "      <td>4.857</td>\n",
       "      <td>5191.0</td>\n",
       "      <td>no</td>\n",
       "    </tr>\n",
       "    <tr>\n",
       "      <th>1</th>\n",
       "      <td>57</td>\n",
       "      <td>services</td>\n",
       "      <td>married</td>\n",
       "      <td>high.school</td>\n",
       "      <td>unknown</td>\n",
       "      <td>no</td>\n",
       "      <td>no</td>\n",
       "      <td>telephone</td>\n",
       "      <td>may</td>\n",
       "      <td>mon</td>\n",
       "      <td>149</td>\n",
       "      <td>1</td>\n",
       "      <td>999</td>\n",
       "      <td>0</td>\n",
       "      <td>nonexistent</td>\n",
       "      <td>1.1</td>\n",
       "      <td>93.994</td>\n",
       "      <td>-36.4</td>\n",
       "      <td>4.857</td>\n",
       "      <td>5191.0</td>\n",
       "      <td>no</td>\n",
       "    </tr>\n",
       "    <tr>\n",
       "      <th>2</th>\n",
       "      <td>37</td>\n",
       "      <td>services</td>\n",
       "      <td>married</td>\n",
       "      <td>high.school</td>\n",
       "      <td>no</td>\n",
       "      <td>yes</td>\n",
       "      <td>no</td>\n",
       "      <td>telephone</td>\n",
       "      <td>may</td>\n",
       "      <td>mon</td>\n",
       "      <td>226</td>\n",
       "      <td>1</td>\n",
       "      <td>999</td>\n",
       "      <td>0</td>\n",
       "      <td>nonexistent</td>\n",
       "      <td>1.1</td>\n",
       "      <td>93.994</td>\n",
       "      <td>-36.4</td>\n",
       "      <td>4.857</td>\n",
       "      <td>5191.0</td>\n",
       "      <td>no</td>\n",
       "    </tr>\n",
       "    <tr>\n",
       "      <th>3</th>\n",
       "      <td>40</td>\n",
       "      <td>admin.</td>\n",
       "      <td>married</td>\n",
       "      <td>basic.6y</td>\n",
       "      <td>no</td>\n",
       "      <td>no</td>\n",
       "      <td>no</td>\n",
       "      <td>telephone</td>\n",
       "      <td>may</td>\n",
       "      <td>mon</td>\n",
       "      <td>151</td>\n",
       "      <td>1</td>\n",
       "      <td>999</td>\n",
       "      <td>0</td>\n",
       "      <td>nonexistent</td>\n",
       "      <td>1.1</td>\n",
       "      <td>93.994</td>\n",
       "      <td>-36.4</td>\n",
       "      <td>4.857</td>\n",
       "      <td>5191.0</td>\n",
       "      <td>no</td>\n",
       "    </tr>\n",
       "    <tr>\n",
       "      <th>4</th>\n",
       "      <td>56</td>\n",
       "      <td>services</td>\n",
       "      <td>married</td>\n",
       "      <td>high.school</td>\n",
       "      <td>no</td>\n",
       "      <td>no</td>\n",
       "      <td>yes</td>\n",
       "      <td>telephone</td>\n",
       "      <td>may</td>\n",
       "      <td>mon</td>\n",
       "      <td>307</td>\n",
       "      <td>1</td>\n",
       "      <td>999</td>\n",
       "      <td>0</td>\n",
       "      <td>nonexistent</td>\n",
       "      <td>1.1</td>\n",
       "      <td>93.994</td>\n",
       "      <td>-36.4</td>\n",
       "      <td>4.857</td>\n",
       "      <td>5191.0</td>\n",
       "      <td>no</td>\n",
       "    </tr>\n",
       "  </tbody>\n",
       "</table>\n",
       "</div>"
      ],
      "text/plain": [
       "   age        job  marital    education  default housing loan    contact  \\\n",
       "0   56  housemaid  married     basic.4y       no      no   no  telephone   \n",
       "1   57   services  married  high.school  unknown      no   no  telephone   \n",
       "2   37   services  married  high.school       no     yes   no  telephone   \n",
       "3   40     admin.  married     basic.6y       no      no   no  telephone   \n",
       "4   56   services  married  high.school       no      no  yes  telephone   \n",
       "\n",
       "  month day_of_week  duration  campaign  pdays  previous     poutcome  \\\n",
       "0   may         mon       261         1    999         0  nonexistent   \n",
       "1   may         mon       149         1    999         0  nonexistent   \n",
       "2   may         mon       226         1    999         0  nonexistent   \n",
       "3   may         mon       151         1    999         0  nonexistent   \n",
       "4   may         mon       307         1    999         0  nonexistent   \n",
       "\n",
       "   emp.var.rate  cons.price.idx  cons.conf.idx  euribor3m  nr.employed   y  \n",
       "0           1.1          93.994          -36.4      4.857       5191.0  no  \n",
       "1           1.1          93.994          -36.4      4.857       5191.0  no  \n",
       "2           1.1          93.994          -36.4      4.857       5191.0  no  \n",
       "3           1.1          93.994          -36.4      4.857       5191.0  no  \n",
       "4           1.1          93.994          -36.4      4.857       5191.0  no  "
      ]
     },
     "execution_count": 27,
     "metadata": {},
     "output_type": "execute_result"
    }
   ],
   "source": [
    "df = pd.read_csv('bank-additional/bank-additional-full.csv', sep=';')\n",
    "df.head()"
   ]
  },
  {
   "cell_type": "markdown",
   "metadata": {},
   "source": [
    "__Задание 3 (0.5 балла).__ Разделите выборку на обучающую и тестовую в соотношении 3:1. Зафиксируйте `random_state=777`, также используйте `stratify`. Один из столбцов в данных не несет информации для решения задачи — какой? Отбросьте его. \n",
    "\n"
   ]
  },
  {
   "cell_type": "code",
   "execution_count": 28,
   "metadata": {},
   "outputs": [],
   "source": [
    "# Исходя из описания смысла признака стоит удалить именно duration\n",
    "del df['duration']"
   ]
  },
  {
   "cell_type": "markdown",
   "metadata": {},
   "source": [
    "Теперь гораздо лучше"
   ]
  },
  {
   "cell_type": "code",
   "execution_count": 29,
   "metadata": {},
   "outputs": [
    {
     "data": {
      "text/plain": [
       "no     36548\n",
       "yes     4640\n",
       "Name: y, dtype: int64"
      ]
     },
     "execution_count": 29,
     "metadata": {},
     "output_type": "execute_result"
    }
   ],
   "source": [
    "# Посмотрим баланс классов\n",
    "df['y'].value_counts()"
   ]
  },
  {
   "cell_type": "markdown",
   "metadata": {},
   "source": [
    "Закодируйте категориальные признаки с помощью `OrdinalEncoder`. Посчитайте качество (в этом задании будем работать c `AUC-PR`) при применении логистической регрессии. Замерьте время, потребовавшееся на обучение модели (с учетом кодирования признаков).\n",
    "\n",
    "__Вопрос__: почему в данном задании мы выбрали метрикой именно `AUC-PR`, а не, к примеру, `AUC-ROC`?\n",
    "\n",
    "__Ваш ответ__: потому что у нас сильный дисбаланс классов и если использовать ROC, то он может этого не учесть по своей природе "
   ]
  },
  {
   "cell_type": "code",
   "execution_count": 30,
   "metadata": {},
   "outputs": [
    {
     "name": "stdout",
     "output_type": "stream",
     "text": [
      "Полощадь под кривой PR на тествовой выборке равна: 0.4433387248610568\n",
      "CPU times: user 4.31 s, sys: 58.5 ms, total: 4.37 s\n",
      "Wall time: 978 ms\n"
     ]
    }
   ],
   "source": [
    "%%time\n",
    "# Инициализируем класс кодировщика\n",
    "enc = OrdinalEncoder()\n",
    "# Обучим кодировщик \n",
    "enc.fit(df.drop('y',axis = 1))\n",
    "# Разделим выборку на части\n",
    "X_train, X_test, y_train, y_test = train_test_split(\n",
    "    df.drop('y',axis = 1),df['y'], test_size=0.25, random_state=777,stratify=df['y'])\n",
    "# Трансформируем обучающую выборку \n",
    "X_train_enc = enc.transform(X_train)\n",
    "# Трансформируем тестовую выборку\n",
    "X_test_enc = enc.transform(X_test)\n",
    "# Преобразуем целевую переменную\n",
    "y_train = y_train.apply(lambda x: 1 if x == 'yes' else 0)\n",
    "y_test = y_test.apply(lambda x: 1 if x == 'yes' else 0)\n",
    "\n",
    "\n",
    "pr_score = make_scorer(pr_auc,needs_proba=True,greater_is_better=True)\n",
    "# Инициализируем\n",
    "Logreg = LogisticRegression(max_iter=1000,solver='liblinear')\n",
    "# Зададим диапазон перебора параметра\n",
    "parametrs_Logreg = {'C':np.logspace(-1,0,1)}\n",
    "# Инициализируем кросс-валидационный перебор параметра\n",
    "grid_Logreg = GridSearchCV(Logreg,parametrs_Logreg,scoring=pr_score)\n",
    "# Обучим модель\n",
    "grid_Logreg.fit(X_train_enc,y_train)\n",
    "# Посмотрим на результат \n",
    "print('Полощадь под кривой PR на тествовой выборке равна:', grid_Logreg.score(X_test_enc,y_test))"
   ]
  },
  {
   "cell_type": "markdown",
   "metadata": {},
   "source": [
    "__Задание 4 (0.5 балла).__ Закодируйте все категориальные признаки с помощью one-hot-кодирования. Обучите логистическую регрессию и посмотрите, как изменилось качество модели (с тем, что было до кодирования). Измерьте время, потребовавшееся на кодирование категориальных признаков и обучение модели.\n",
    "\n"
   ]
  },
  {
   "cell_type": "code",
   "execution_count": 31,
   "metadata": {},
   "outputs": [
    {
     "name": "stdout",
     "output_type": "stream",
     "text": [
      "Полощадь под кривой PR на тествовой выборке равна: 0.4439975291374703\n",
      "CPU times: user 23.8 s, sys: 222 ms, total: 24 s\n",
      "Wall time: 4.01 s\n"
     ]
    }
   ],
   "source": [
    "%%time\n",
    "# Закодируем выборку с помощи OHE\n",
    "X_dummy = pd.get_dummies(df.drop('y',axis = 1))\n",
    "y_dummy = df['y'].apply(lambda x: 1 if x == 'yes' else 0)\n",
    "# Разделим выборку на части \n",
    "X_train, X_test, y_train, y_test = train_test_split(\n",
    "    X_dummy,y_dummy, test_size=0.25, random_state=777,stratify=y_dummy)\n",
    "# Создадим скор функции, чтобы использовать ее в подборе параметра\n",
    "pr_score = make_scorer(pr_auc,needs_proba=True,greater_is_better=True)\n",
    "# Инициализируем \n",
    "Logreg = LogisticRegression(max_iter=1000)\n",
    "# Зададим диапазон перебора параметра\n",
    "parametrs_Logreg = {'C':np.logspace(-1,0,1)}\n",
    "# Инициализируем кросс-валидационный перебор параметра\n",
    "grid_Logreg = GridSearchCV(Logreg,parametrs_Logreg,scoring=pr_score)\n",
    "# Обучим модель\n",
    "grid_Logreg.fit(X_train,y_train)\n",
    "# Посмотрим на результат \n",
    "print('Полощадь под кривой PR на тествовой выборке равна:', grid_Logreg.score(X_test,y_test))"
   ]
  },
  {
   "cell_type": "markdown",
   "metadata": {},
   "source": [
    "Время увеличилось, а качество немного увеличилось (с 0.44333 до 0.44399)"
   ]
  },
  {
   "cell_type": "markdown",
   "metadata": {},
   "source": [
    "Как можно было заменить, one-hot-кодирование может сильно увеличивать количество признаков, что сказывается на памяти, особенно, если некоторый признак имеет большое количество значений. Эту проблему решает другой способ кодирования категориальных признаков — mean-target encoding (для простоты будем называть это счётчиками). Основная идея в том, что нам важны не сами категории, а значения целевой переменной, которые имеют объекты этой категории. Каждый категориальный признак мы заменим средним значением целевой переменной по всем объектам этой же категории:\n",
    "$$\n",
    "g_j(x, X) = \\frac{\\sum_{i=1}^{l} [f_j(x) = f_j(x_i)][y_i = +1]}{\\sum_{i=1}^{l} [f_j(x) = f_j(x_i)]}\n",
    "$$\n",
    "\n",
    "__Задание 5 (1 балл).__ Закодируйте категориальные переменные с помощью счётчиков (ровно так, как описано выше без каких-либо хитростей). Обучите логистическую регрессию и посмотрите на качество модели на тестовом множестве. Сравните время обучения с предыдущими экспериментами (с учетом кодирования признаков). Заметили ли вы что-то интересное?\n",
    "\n",
    "\n",
    "__Бонус (1 балл)__: Здесь и далее реализуйте вычисление счетчиков с помощью трансформера (наследуйтесь от классов `BaseEstimator, TransformerMixin` из `sklearn.base`). Обратите внимание, что все вычисления должны быть векторизованными, трансформер не должен модифицировать передаваемую ему выборку inplace, а все необходимые статистики нужно считать только по обучающей выборке в методе `fit`. Ваш трансформер должен принимать при инициализации список из категориальных признаков и изменять только их. \n"
   ]
  },
  {
   "cell_type": "markdown",
   "metadata": {},
   "source": [
    "Бонус"
   ]
  },
  {
   "cell_type": "code",
   "execution_count": 32,
   "metadata": {},
   "outputs": [],
   "source": [
    "from sklearn.base import BaseEstimator, TransformerMixin\n",
    "\n",
    "class Mean_Target_Encoding(BaseEstimator, TransformerMixin):\n",
    "    \"\"\"\n",
    "    Класс кодировани признаков\n",
    "    \"\"\"\n",
    "    def __init__(self,target_column,object_colunms):\n",
    "        # Инициализируем все необходимые переменные\n",
    "        self.object_columns = object_colunms.copy()\n",
    "        self.target_column = target_column\n",
    "        self.object_columns.remove(self.target_column)\n",
    "        \n",
    "    def fit(self,dataset):\n",
    "        # Скопируем полученные данные\n",
    "        self.dataset = dataset.copy()\n",
    "        # Приведем целевой столбец к необходимому формату\n",
    "        self.dataset[self.target_column] = self.dataset[self.target_column].apply(lambda x: 1 if x == 'yes' else 0)\n",
    "        # Инициализируем переменную для хранения значений\n",
    "        self.mean_target = {}\n",
    "        for column in self.object_columns:\n",
    "            # Перебираясь по столбцам запомним для каждого знаяения необходимые значени\n",
    "            self.mean_target[column] = self.dataset.groupby(column).mean()[self.target_column]\n",
    "\n",
    "    def transform(self,dataset):\n",
    "        # Скопируем полученные данные\n",
    "        self.dataset_transform = dataset.copy()\n",
    "        for column in self.object_columns:\n",
    "            # Перебираясь по столбцам присвоим для каждого знаяения необходимые значени\n",
    "            self.dataset_transform[column] = self.dataset_transform[column].apply(lambda x: self.mean_target[column][x])\n",
    "        return self.dataset_transform"
   ]
  },
  {
   "cell_type": "code",
   "execution_count": 33,
   "metadata": {},
   "outputs": [],
   "source": [
    "# Разделим выборку\n",
    "X_train, X_test, y_train, y_test = train_test_split(\n",
    "    df.drop('y',axis = 1),df['y'], test_size=0.25, random_state=777,stratify=df['y'])"
   ]
  },
  {
   "cell_type": "code",
   "execution_count": 34,
   "metadata": {},
   "outputs": [],
   "source": [
    "# подготовим ее к трансформации\n",
    "X_total_train = pd.merge(X_train, y_train, left_index=True, right_index=True)\n",
    "X_total_test = pd.merge(X_test, y_test, left_index=True, right_index=True)"
   ]
  },
  {
   "cell_type": "code",
   "execution_count": 35,
   "metadata": {},
   "outputs": [],
   "source": [
    "# Выделим столбцы с категориальными значениями\n",
    "obj_col = X_total_train.loc[:,X_total_train.dtypes == np.dtype('object')].columns.tolist()"
   ]
  },
  {
   "cell_type": "code",
   "execution_count": 36,
   "metadata": {
    "scrolled": true
   },
   "outputs": [
    {
     "name": "stdout",
     "output_type": "stream",
     "text": [
      "Полощадь под кривой PR на тествовой выборке равна: 0.41938484978395896\n",
      "CPU times: user 6.91 s, sys: 72.9 ms, total: 6.98 s\n",
      "Wall time: 2.01 s\n"
     ]
    }
   ],
   "source": [
    "%%time\n",
    "# Инициализируем трансформатор\n",
    "mte = Mean_Target_Encoding('y',obj_col)\n",
    "# Обучим трасформатор\n",
    "mte.fit(X_total_train)\n",
    "# Трансформируем данные\n",
    "X_total_train_transform = mte.transform(X_total_train)\n",
    "X_total_test_transform = mte.transform(X_total_test)\n",
    "# Подготовим данные к обучению\n",
    "X_train_transform_data,y_train_transform = X_total_train_transform.drop('y',axis = 1),X_total_train_transform['y']\n",
    "X_test_transform_data,y_test_transform = X_total_test_transform.drop('y',axis = 1),X_total_test_transform['y']\n",
    "y_train_transform = y_train_transform.apply(lambda x: 1 if x == 'yes' else 0)\n",
    "y_test_transform = y_test_transform.apply(lambda x: 1 if x == 'yes' else 0)\n",
    "\n",
    "# Создадим скор функции, чтобы использовать ее в подборе параметра\n",
    "pr_score = make_scorer(pr_auc,needs_proba=True,greater_is_better=True)\n",
    "# Инициализируем метод опорных векторов с линейным ядром \n",
    "Logreg = LogisticRegression(max_iter=1000)\n",
    "# Зададим диапазон перебора параметра\n",
    "parametrs_Logreg = {'C':[0.001]}\n",
    "# Инициализируем кросс-валидационный перебор параметра\n",
    "grid_Logreg = GridSearchCV(Logreg,parametrs_Logreg,scoring=pr_score)\n",
    "# Обучим модель\n",
    "grid_Logreg.fit(X_train_transform_data,y_train_transform)\n",
    "# Посмотрим на результат \n",
    "print('Полощадь под кривой PR на тествовой выборке равна:', grid_Logreg.score(X_test_transform_data,y_test_transform))"
   ]
  },
  {
   "cell_type": "markdown",
   "metadata": {},
   "source": [
    "Время увеличилось относительно OrdinalEncoder и уменьшиловсь относительно OHE, качество еще немного просело "
   ]
  },
  {
   "cell_type": "markdown",
   "metadata": {},
   "source": [
    "Отметим, что такие признаки сами по себе являются классификаторами и, обучаясь на них, мы допускаем \"утечку\" целевой переменной в признаки. Это ведёт к переобучению, поэтому считать такие признаки необходимо таким образом, чтобы при вычислении для конкретного объекта его целевая метка не использовалась. Это можно делать следующими способами:\n",
    "1. Вычислять значение счётчика по всем объектам расположенным выше в датасете (например, если у нас выборка отсортирована по времени).\n",
    "2. Вычислять по фолдам, то есть делить выборку на некоторое количество частей и подсчитывать значение признаков по всем фолдам кроме текущего (как делается в кросс-валидации).\n",
    "3. Внесение некоторого шума в посчитанные признаки. \n",
    "\n",
    "__Задание 6.__ Реализуйте корректное вычисление счётчиков самым простым способом — добавление шума к значениям (постарайтесь найти баланс между борьбой с переобучением и сохранением полезности признаков). Снова обучите логистическую регрессию, оцените качество. Сделайте выводы.\n",
    "\n",
    "__(0.5 балла)__"
   ]
  },
  {
   "cell_type": "code",
   "execution_count": 37,
   "metadata": {},
   "outputs": [],
   "source": [
    "class Mean_Target_Encoding_Noise(BaseEstimator, TransformerMixin):\n",
    "    def __init__(self,target_column,object_colunms):\n",
    "        self.object_columns = object_colunms.copy()\n",
    "        self.target_column = target_column\n",
    "        self.object_columns.remove(self.target_column)\n",
    "        \n",
    "    def fit(self,dataset):\n",
    "        self.dataset = dataset.copy()\n",
    "        self.dataset[self.target_column] = self.dataset[self.target_column].apply(lambda x: 1 if x == 'yes' else 0)\n",
    "        self.mean_target = {}\n",
    "        for column in self.object_columns:\n",
    "            noise = np.random.choice(np.logspace(-3,-1,10))\n",
    "            self.mean_target[column] = self.dataset.groupby(column).mean()[self.target_column] + noise\n",
    "\n",
    "    def transform(self,dataset):\n",
    "        self.dataset_transform = dataset.copy()\n",
    "        for column in self.object_columns:\n",
    "            self.dataset_transform[column] = self.dataset_transform[column].apply(lambda x: self.mean_target[column][x])\n",
    "        return self.dataset_transform"
   ]
  },
  {
   "cell_type": "code",
   "execution_count": 38,
   "metadata": {
    "scrolled": true
   },
   "outputs": [
    {
     "name": "stdout",
     "output_type": "stream",
     "text": [
      "Полощадь под кривой PR на тествовой выборке равна: 0.4190184445373945\n",
      "CPU times: user 6.85 s, sys: 66.9 ms, total: 6.92 s\n",
      "Wall time: 1.94 s\n"
     ]
    }
   ],
   "source": [
    "%%time\n",
    "# Инициализируем трансформатор\n",
    "mte = Mean_Target_Encoding_Noise('y',obj_col)\n",
    "# Обучим трасформатор\n",
    "mte.fit(X_total_train)\n",
    "# Трансформируем данные\n",
    "X_total_train_transform = mte.transform(X_total_train)\n",
    "X_total_test_transform = mte.transform(X_total_test)\n",
    "# Подготовим данные к обучению\n",
    "X_train_transform_data,y_train_transform = X_total_train_transform.drop('y',axis = 1),X_total_train_transform['y']\n",
    "X_test_transform_data,y_test_transform = X_total_test_transform.drop('y',axis = 1),X_total_test_transform['y']\n",
    "y_train_transform = y_train_transform.apply(lambda x: 1 if x == 'yes' else 0)\n",
    "y_test_transform = y_test_transform.apply(lambda x: 1 if x == 'yes' else 0)\n",
    "\n",
    "# Создадим скор функции, чтобы использовать ее в подборе параметра\n",
    "pr_score = make_scorer(pr_auc,needs_proba=True,greater_is_better=True)\n",
    "# Инициализируем метод опорных векторов с линейным ядром \n",
    "Logreg = LogisticRegression(max_iter=1000)\n",
    "# Зададим диапазон перебора параметра\n",
    "parametrs_Logreg = {'C':[0.001]}\n",
    "# Инициализируем кросс-валидационный перебор параметра\n",
    "grid_Logreg = GridSearchCV(Logreg,parametrs_Logreg,scoring=pr_score)\n",
    "# Обучим модель\n",
    "grid_Logreg.fit(X_train_transform_data,y_train_transform)\n",
    "# Посмотрим на результат \n",
    "print('Полощадь под кривой PR на тествовой выборке равна:', grid_Logreg.score(X_test_transform_data,y_test_transform))"
   ]
  },
  {
   "cell_type": "markdown",
   "metadata": {},
   "source": [
    "Время незначительно уменьшилось, качество практически не изменилось (было 0.41938 стало  0.4190)"
   ]
  },
  {
   "cell_type": "markdown",
   "metadata": {},
   "source": [
    "__(Бонусная часть, 0.5 балла)__ Посчитайте корректные счётчики первым или вторым способов из описанных выше (не забудьте добавить и шум). \n",
    "\n"
   ]
  },
  {
   "cell_type": "code",
   "execution_count": 39,
   "metadata": {},
   "outputs": [],
   "source": [
    "#your code here"
   ]
  },
  {
   "cell_type": "markdown",
   "metadata": {},
   "source": [
    "А теперь ответьте на следующий вопрос: что будет, если некоторая категория встречается в выборке всего несколько раз? По этой причине производится сглаживание счётчиков. Например, на практике хорошие результаты показывает использование сглаживания средним по всей выборке:\n",
    "$$\n",
    "g_j(x, X) = \\frac{\\sum_{i=1}^{\\ell} [f_j(x) = f_j(x_i)][y_i = +1] + C \\times global\\_mean}{\\sum_{i=1}^{\\ell} [f_j(x) = f_j(x_i)] + C}\n",
    "$$\n",
    "где $global\\_mean$ — доля объектов положительного класса в выборке, $C$ — параметр, определяющий степень сглаживания (например, можно использовать 10 или подобрать для каждого признака свой). Основная идея в том, что мы \"разбавляем\" среднее значение по некоторой категории глобальным средним значением. И тем меньше, чем большее количество объектов этой категории встречается в выборке. \n",
    "\n",
    "Однако для сглаживания вместо среднего значения целевой переменной можно использовать любое другое значение от 0 до 1 (этот параметр иногда называют $prior$). Можно сделать несколько признаков с разными значениями параметра. На практике в задачах бинарной классификации полезными бывают даже отрицательные значения!\n"
   ]
  },
  {
   "cell_type": "markdown",
   "metadata": {},
   "source": [
    "__Задание 7 (1 балл).__ Добавьте сглаживание, описанное выше и повторите эксперименты."
   ]
  },
  {
   "cell_type": "code",
   "execution_count": 40,
   "metadata": {},
   "outputs": [],
   "source": [
    "class Mean_Target_Encoding_Smooth(BaseEstimator, TransformerMixin):\n",
    "    def __init__(self,target_column,object_colunms,C):\n",
    "        self.object_columns = object_colunms.copy()\n",
    "        self.target_column = target_column\n",
    "        self.object_columns.remove(self.target_column)\n",
    "        self.C = C\n",
    "        \n",
    "    def fit(self,dataset):\n",
    "        self.dataset = dataset.copy()\n",
    "        self.dataset[self.target_column] = self.dataset[self.target_column].apply(lambda x: 1 if x == 'yes' else 0)\n",
    "        self.mean_target = {}\n",
    "        for column in self.object_columns:\n",
    "            noise = np.random.choice(np.logspace(-3,-1,10))\n",
    "            count = self.dataset.groupby(column).count()[self.target_column]\n",
    "            sum_ = self.dataset.groupby(column).sum()[self.target_column]\n",
    "            global_lenght = self.dataset.shape[0]\n",
    "            global_mean = sum_/global_lenght\n",
    "            local_mean = (sum_ + self.C * global_mean)/(count+self.C)\n",
    "            self.mean_target[column] = local_mean\n",
    "\n",
    "    def transform(self,dataset):\n",
    "        def fill_mean_target(column,x):\n",
    "            try:\n",
    "                return self.mean_target[column][x]\n",
    "            except KeyError:\n",
    "                return np.mean(self.mean_target[column])\n",
    "            \n",
    "        self.dataset_transform = dataset.copy()\n",
    "        for column in self.object_columns:\n",
    "            self.dataset_transform[column] = self.dataset_transform[column].apply(lambda x: fill_mean_target(column,x))\n",
    "        return self.dataset_transform"
   ]
  },
  {
   "cell_type": "code",
   "execution_count": 41,
   "metadata": {},
   "outputs": [
    {
     "name": "stdout",
     "output_type": "stream",
     "text": [
      "Полощадь под кривой PR на тествовой выборке равна: 0.41433734901458547\n",
      "CPU times: user 7.34 s, sys: 74.7 ms, total: 7.41 s\n",
      "Wall time: 2.16 s\n"
     ]
    }
   ],
   "source": [
    "%%time\n",
    "mte = Mean_Target_Encoding_Smooth('y',obj_col,10)\n",
    "\n",
    "mte.fit(X_total_train)\n",
    "\n",
    "X_total_train_transform = mte.transform(X_total_train)\n",
    "X_total_test_transform = mte.transform(X_total_test)\n",
    "\n",
    "X_train_transform_data,y_train_transform = X_total_train_transform.drop('y',axis = 1),X_total_train_transform['y']\n",
    "X_test_transform_data,y_test_transform = X_total_test_transform.drop('y',axis = 1),X_total_test_transform['y']\n",
    "y_train_transform = y_train_transform.apply(lambda x: 1 if x == 'yes' else 0)\n",
    "y_test_transform = y_test_transform.apply(lambda x: 1 if x == 'yes' else 0)\n",
    "\n",
    "# Создадим скор функции, чтобы использовать ее в подборе параметра\n",
    "pr_score = make_scorer(pr_auc,needs_proba=True,greater_is_better=True)\n",
    "# Инициализируем метод опорных векторов с линейным ядром \n",
    "Logreg = LogisticRegression(max_iter=1000)\n",
    "# Зададим диапазон перебора параметра\n",
    "parametrs_Logreg = {'C':[0.001]}\n",
    "# Инициализируем кросс-валидационный перебор параметра\n",
    "grid_Logreg = GridSearchCV(Logreg,parametrs_Logreg,scoring=pr_score)\n",
    "# Обучим модель\n",
    "grid_Logreg.fit(X_train_transform_data,y_train_transform)\n",
    "# Посмотрим на результат \n",
    "print('Полощадь под кривой PR на тествовой выборке равна:', grid_Logreg.score(X_test_transform_data,y_test_transform))"
   ]
  },
  {
   "cell_type": "markdown",
   "metadata": {},
   "source": [
    "Качество уменьшилось с 0.41900 до 0.41433"
   ]
  },
  {
   "cell_type": "markdown",
   "metadata": {},
   "source": [
    "Проведем эксперимент с prior"
   ]
  },
  {
   "cell_type": "code",
   "execution_count": 42,
   "metadata": {},
   "outputs": [],
   "source": [
    "class Mean_Target_Encoding_Prior(BaseEstimator, TransformerMixin):\n",
    "    def __init__(self,target_column,object_colunms,C,prior):\n",
    "        self.object_columns = object_colunms.copy()\n",
    "        self.target_column = target_column\n",
    "        self.object_columns.remove(self.target_column)\n",
    "        self.C = C\n",
    "        self.prior = prior\n",
    "        \n",
    "    def fit(self,dataset):\n",
    "        self.dataset = dataset.copy()\n",
    "        self.dataset[self.target_column] = self.dataset[self.target_column].apply(lambda x: 1 if x == 'yes' else 0)\n",
    "        self.mean_target = {}\n",
    "        for column in self.object_columns:\n",
    "            noise = np.random.choice(np.logspace(-3,-1,10))\n",
    "            count = self.dataset.groupby(column).count()[self.target_column]\n",
    "            sum_ = self.dataset.groupby(column).sum()[self.target_column]\n",
    "\n",
    "            local_mean =(sum_ + self.C * self.prior)/(count+self.C)\n",
    "            self.mean_target[column] = local_mean\n",
    "\n",
    "    def transform(self,dataset):\n",
    "        self.dataset_transform = dataset.copy()\n",
    "        for column in self.object_columns:\n",
    "            self.dataset_transform[column] = self.dataset_transform[column].apply(lambda x: self.mean_target[column][x])\n",
    "        return self.dataset_transform"
   ]
  },
  {
   "cell_type": "code",
   "execution_count": 43,
   "metadata": {},
   "outputs": [
    {
     "name": "stdout",
     "output_type": "stream",
     "text": [
      "Полощадь под кривой PR на тествовой выборке равна: 0.41991899096833524\n",
      "CPU times: user 7.45 s, sys: 80.4 ms, total: 7.53 s\n",
      "Wall time: 2.13 s\n"
     ]
    }
   ],
   "source": [
    "%%time\n",
    "mte = Mean_Target_Encoding_Prior('y',obj_col,10,0.6)\n",
    "\n",
    "mte.fit(X_total_train)\n",
    "\n",
    "X_total_train_transform = mte.transform(X_total_train)\n",
    "X_total_test_transform = mte.transform(X_total_test)\n",
    "\n",
    "X_train_transform_data,y_train_transform = X_total_train_transform.drop('y',axis = 1),X_total_train_transform['y']\n",
    "X_test_transform_data,y_test_transform = X_total_test_transform.drop('y',axis = 1),X_total_test_transform['y']\n",
    "y_train_transform = y_train_transform.apply(lambda x: 1 if x == 'yes' else 0)\n",
    "y_test_transform = y_test_transform.apply(lambda x: 1 if x == 'yes' else 0)\n",
    "\n",
    "# Создадим скор функции, чтобы использовать ее в подборе параметра\n",
    "pr_score = make_scorer(pr_auc,needs_proba=True,greater_is_better=True)\n",
    "# Инициализируем метод опорных векторов с линейным ядром \n",
    "Logreg = LogisticRegression(max_iter=1000)\n",
    "# Зададим диапазон перебора параметра\n",
    "parametrs_Logreg = {'C':[0.001]}\n",
    "# Инициализируем кросс-валидационный перебор параметра\n",
    "grid_Logreg = GridSearchCV(Logreg,parametrs_Logreg,scoring=pr_score)\n",
    "# Обучим модель\n",
    "grid_Logreg.fit(X_train_transform_data,y_train_transform)\n",
    "# Посмотрим на результат \n",
    "print('Полощадь под кривой PR на тествовой выборке равна:', grid_Logreg.score(X_test_transform_data,y_test_transform))"
   ]
  },
  {
   "cell_type": "markdown",
   "metadata": {},
   "source": [
    "Качество увеличилось с 0.41433 до 0.41991"
   ]
  },
  {
   "cell_type": "markdown",
   "metadata": {},
   "source": [
    "__Задание 8 (0.5 балла).__ В данных имеется признак \"возраст клиента\". Сейчас мы интерпретируем его как числовой, что в общем случае для линейной модели может быть неверной гипотезой. Тем не менее, у этого признака есть довольно много уникальных значений (сколько?), поэтому применять к нему one-hot кодирование может оказаться излишним. Попробуйте закодировать возраст с помощью счетчиков. Стало ли лучше?\n",
    "\n"
   ]
  },
  {
   "cell_type": "code",
   "execution_count": 44,
   "metadata": {},
   "outputs": [
    {
     "data": {
      "text/plain": [
       "('Количество уникальных значений в графе возраст:', 76)"
      ]
     },
     "execution_count": 44,
     "metadata": {},
     "output_type": "execute_result"
    }
   ],
   "source": [
    "\"Количество уникальных значений в графе возраст:\", X_total_train['age'].unique().shape[0]"
   ]
  },
  {
   "cell_type": "code",
   "execution_count": 45,
   "metadata": {},
   "outputs": [
    {
     "name": "stdout",
     "output_type": "stream",
     "text": [
      "Полощадь под кривой PR на тествовой выборке равна: 0.4133046971073031\n",
      "CPU times: user 6.54 s, sys: 69 ms, total: 6.61 s\n",
      "Wall time: 2.13 s\n"
     ]
    }
   ],
   "source": [
    "%%time\n",
    "mte = Mean_Target_Encoding_Smooth('y',obj_col+['age'],10)\n",
    "\n",
    "mte.fit(X_total_train)\n",
    "\n",
    "X_total_train_transform = mte.transform(X_total_train)\n",
    "X_total_test_transform = mte.transform(X_total_test)\n",
    "\n",
    "X_train_transform_data,y_train_transform = X_total_train_transform.drop('y',axis = 1),X_total_train_transform['y']\n",
    "X_test_transform_data,y_test_transform = X_total_test_transform.drop('y',axis = 1),X_total_test_transform['y']\n",
    "y_train_transform = y_train_transform.apply(lambda x: 1 if x == 'yes' else 0)\n",
    "y_test_transform = y_test_transform.apply(lambda x: 1 if x == 'yes' else 0)\n",
    "\n",
    "# Создадим скор функции, чтобы использовать ее в подборе параметра\n",
    "pr_score = make_scorer(pr_auc,needs_proba=True,greater_is_better=True)\n",
    "# Инициализируем \n",
    "Logreg = LogisticRegression(max_iter=1000)\n",
    "# Зададим диапазон перебора параметра\n",
    "parametrs_Logreg = {'C':[0.001]}\n",
    "# Инициализируем кросс-валидационный перебор параметра\n",
    "grid_Logreg = GridSearchCV(Logreg,parametrs_Logreg,scoring=pr_score)\n",
    "# Обучим модель\n",
    "grid_Logreg.fit(X_train_transform_data,y_train_transform)\n",
    "# Посмотрим на результат \n",
    "print('Полощадь под кривой PR на тествовой выборке равна:', grid_Logreg.score(X_test_transform_data,y_test_transform))"
   ]
  },
  {
   "cell_type": "markdown",
   "metadata": {},
   "source": [
    "нет, качество уменьшилось с 0.41991 до 0.41330"
   ]
  },
  {
   "cell_type": "markdown",
   "metadata": {},
   "source": [
    "Можно пойти и в обратную сторону. У нас есть признаки \"месяц и день недели\" для звонка. Попробуйте интерпретировать их как числовые (месяц от 0 до 12, дни недели от 0 до 4). Стало ли лучше в этот раз?"
   ]
  },
  {
   "cell_type": "code",
   "execution_count": 46,
   "metadata": {},
   "outputs": [],
   "source": [
    "# Преобразуем данные\n",
    "day_abb = list(map(str.lower,list(calendar.day_abbr)))\n",
    "# Разделим выборку\n",
    "X_train, X_test, y_train, y_test = train_test_split(\n",
    "    df.drop('y',axis = 1),df['y'], test_size=0.25, random_state=777,stratify=df['y'])\n",
    "# Заменим месяц на его порядковый номер\n",
    "X_train['month'] = X_train['month'].apply(lambda x: datetime.datetime.strptime(x, \"%b\").month)\n",
    "X_test['month'] = X_test['month'].apply(lambda x: datetime.datetime.strptime(x, \"%b\").month)\n",
    "# Заменим день недели на его порядковый номер\n",
    "X_train['day_of_week'] = X_train['day_of_week'].apply(lambda x:day_abb.index(x) )\n",
    "X_test['day_of_week'] = X_test['day_of_week'].apply(lambda x: day_abb.index(x))\n",
    "# Произведем подготовку к обучению \n",
    "X_total_train = pd.merge(X_train, y_train, left_index=True, right_index=True)\n",
    "X_total_test = pd.merge(X_test, y_test, left_index=True, right_index=True)\n",
    "obj_col = X_total_train.loc[:,X_total_train.dtypes == np.dtype('object')].columns.tolist()"
   ]
  },
  {
   "cell_type": "code",
   "execution_count": 47,
   "metadata": {},
   "outputs": [
    {
     "name": "stdout",
     "output_type": "stream",
     "text": [
      "Полощадь под кривой PR на тествовой выборке равна: 0.41712528132512533\n",
      "CPU times: user 6.87 s, sys: 65.5 ms, total: 6.93 s\n",
      "Wall time: 2 s\n"
     ]
    }
   ],
   "source": [
    "%%time\n",
    "mte = Mean_Target_Encoding_Smooth('y',obj_col,10)\n",
    "\n",
    "mte.fit(X_total_train)\n",
    "\n",
    "X_total_train_transform = mte.transform(X_total_train)\n",
    "X_total_test_transform = mte.transform(X_total_test)\n",
    "\n",
    "X_train_transform_data,y_train_transform = X_total_train_transform.drop('y',axis = 1),X_total_train_transform['y']\n",
    "X_test_transform_data,y_test_transform = X_total_test_transform.drop('y',axis = 1),X_total_test_transform['y']\n",
    "y_train_transform = y_train_transform.apply(lambda x: 1 if x == 'yes' else 0)\n",
    "y_test_transform = y_test_transform.apply(lambda x: 1 if x == 'yes' else 0)\n",
    "\n",
    "# Создадим скор функции, чтобы использовать ее в подборе параметра\n",
    "pr_score = make_scorer(pr_auc,needs_proba=True,greater_is_better=True)\n",
    "# Инициализируем метод опорных векторов с линейным ядром \n",
    "Logreg = LogisticRegression(max_iter=1000)\n",
    "# Зададим диапазон перебора параметра\n",
    "parametrs_Logreg = {'C':[0.001]}\n",
    "# Инициализируем кросс-валидационный перебор параметра\n",
    "grid_Logreg = GridSearchCV(Logreg,parametrs_Logreg,scoring=pr_score)\n",
    "# Обучим модель\n",
    "grid_Logreg.fit(X_train_transform_data,y_train_transform)\n",
    "# Посмотрим на результат \n",
    "print('Полощадь под кривой PR на тествовой выборке равна:', grid_Logreg.score(X_test_transform_data,y_test_transform))"
   ]
  },
  {
   "cell_type": "markdown",
   "metadata": {},
   "source": [
    "Да, качество увеличилось с 0.41330 до 0.41712"
   ]
  },
  {
   "cell_type": "markdown",
   "metadata": {},
   "source": [
    "__Замечание.__ Усложнение методов вычисления счётчиков не делают результаты модели гарантированно лучше. Особенно с учётом того, что логистическая регрессия не такая сложная модель, чтобы переобучаться. Поэтому вы необязательно должны были получать на каждом шаге всё лучшие и лучшие результаты (но необходимые результаты у вас должны были получиться).\n",
    "\n",
    "Как вы должны были заметить, счётчики являются хорошей альтернативой one-hot-кодированию. Напишите, какие плюсы и минусы использования счётчиков по сравнению с one-hot-кодированием вы заметили.\n",
    "\n",
    "__Ответ:__  OHE работает дольше, в отличие от счетчиков. Качество на упало, но не сильно"
   ]
  },
  {
   "cell_type": "markdown",
   "metadata": {},
   "source": [
    "**Трансформация закончена**\n",
    "\n",
    "<img src = \"https://media.giphy.com/media/YmuBikckdIDXC5jPFf/giphy.gif\">"
   ]
  },
  {
   "cell_type": "markdown",
   "metadata": {},
   "source": [
    "# Часть 2. Отбор признаков"
   ]
  },
  {
   "cell_type": "markdown",
   "metadata": {},
   "source": [
    "Важной частью процесса построения модели является отбор признаков. На практике многие признаки оказывают малое влияние на модель (при этом их расчёт занимает время) или даже негативно сказываются на качестве модели. Попробуем несколько подходов отбора признаков, оценим, как они влияют на качество модели и сколько времени занимают.\n",
    "\n",
    "Обратимся к тем же данным про банковский телефонный маркетинг."
   ]
  },
  {
   "cell_type": "code",
   "execution_count": 48,
   "metadata": {},
   "outputs": [],
   "source": [
    "df = pd.read_csv('bank-additional/bank-additional-full.csv', sep=';')\n",
    "\n",
    "X = df.drop(columns=['duration', 'y'])\n",
    "y = (df.y == 'yes')\n",
    "\n",
    "X_train, X_test, y_train, y_test = train_test_split(X, y, test_size=0.2, random_state=777, stratify=y)"
   ]
  },
  {
   "cell_type": "markdown",
   "metadata": {},
   "source": [
    "Как вы помните, в данных много категориальных признаков (сейчас давайте интерпретировать возраст как числовой). Давайте закодируем их с помощью one-hot кодирования. Исходные колонки с категориальными признаками можно удалить. Сколько признаков мы получили?"
   ]
  },
  {
   "cell_type": "code",
   "execution_count": 49,
   "metadata": {},
   "outputs": [],
   "source": [
    "# Кодируем данные\n",
    "X_dummy_train = pd.get_dummies(X_train)\n",
    "X_dummy_test  = pd.get_dummies(X_test)"
   ]
  },
  {
   "cell_type": "code",
   "execution_count": 50,
   "metadata": {
    "scrolled": true
   },
   "outputs": [
    {
     "name": "stdout",
     "output_type": "stream",
     "text": [
      "default_yes\n"
     ]
    }
   ],
   "source": [
    "# Найдем стоолбцы, которых нет в тестовой выборке, чтобы наша модель работала корректно добавим их, но со значением 0\n",
    "add_col = set(X_dummy_train.columns) - set(X_dummy_test.columns)\n",
    "print(list(add_col)[0])"
   ]
  },
  {
   "cell_type": "code",
   "execution_count": 51,
   "metadata": {},
   "outputs": [
    {
     "data": {
      "text/plain": [
       "35"
      ]
     },
     "execution_count": 51,
     "metadata": {},
     "output_type": "execute_result"
    }
   ],
   "source": [
    "# Определим куда вставить столбец\n",
    "X_dummy_train.columns.tolist().index('default_yes')"
   ]
  },
  {
   "cell_type": "code",
   "execution_count": 52,
   "metadata": {},
   "outputs": [],
   "source": [
    "X_dummy_test.insert(loc=35, column='default_yes', value=0)"
   ]
  },
  {
   "cell_type": "code",
   "execution_count": 53,
   "metadata": {},
   "outputs": [
    {
     "name": "stdout",
     "output_type": "stream",
     "text": [
      "Количесвто столбцов после кодирования: 62\n"
     ]
    }
   ],
   "source": [
    "print('Количесвто столбцов после кодирования:',X_dummy_train.shape[1])"
   ]
  },
  {
   "cell_type": "markdown",
   "metadata": {},
   "source": [
    "В качестве основной модели будем использовать логистическую регрессию, а целевой метрики — `AUC-PR`. Обучите модель и посчитайте качество на тестовой выборке. Давайте запомним полученное значение."
   ]
  },
  {
   "cell_type": "code",
   "execution_count": 54,
   "metadata": {},
   "outputs": [
    {
     "name": "stdout",
     "output_type": "stream",
     "text": [
      "Полощадь под кривой PR на тествовой выборке равна: 0.44114760392681274\n"
     ]
    }
   ],
   "source": [
    "# Создадим скор функции, чтобы использовать ее в подборе параметра\n",
    "pr_score = make_scorer(pr_auc,needs_proba=True,greater_is_better=True)\n",
    "# Инициализируем \n",
    "Logreg = LogisticRegression(max_iter=1000)\n",
    "# Зададим диапазон перебора параметра\n",
    "parametrs_Logreg = {'C':[0.001]}\n",
    "# Инициализируем кросс-валидационный перебор параметра\n",
    "grid_Logreg = GridSearchCV(Logreg,parametrs_Logreg,scoring=pr_score)\n",
    "# Обучим модель\n",
    "grid_Logreg.fit(X_dummy_train,y_train)\n",
    "# Посмотрим на результат \n",
    "print('Полощадь под кривой PR на тествовой выборке равна:', grid_Logreg.score(X_dummy_test,y_test))"
   ]
  },
  {
   "cell_type": "markdown",
   "metadata": {},
   "source": [
    "### Встроенные методы"
   ]
  },
  {
   "cell_type": "markdown",
   "metadata": {},
   "source": [
    "Допустим, мы хотим оставить только 40 лучших признаков. Попробуем сделать это несколькими способами.\n",
    "\n",
    "Начнём с отборам признаков с помощью линейной модели. Как известно, веса линейной модели означают вклад каждого признака в предсказание модели, а значит, модуль этого вклада можно интерпретировать как важность признаков. Такой метод отбора называются встроенным или embedded method, так как он заложен в особенности модели.\n",
    "\n",
    "__Задание 8 (0.5 балла).__ Оставьте 40 признаков с наибольшим модулем соответствующего параметра линейной модели. Обучите модели заново и оцените её качество. Замерьте скорость такого отбора признаков.\n",
    "\n",
    "Изменилось ли качество? Как?\n",
    "\n"
   ]
  },
  {
   "cell_type": "code",
   "execution_count": 55,
   "metadata": {
    "scrolled": false
   },
   "outputs": [
    {
     "name": "stdout",
     "output_type": "stream",
     "text": [
      "Полощадь под кривой PR на тествовой выборке равна: 0.36928145241361204\n",
      "CPU times: user 4.71 s, sys: 74.6 ms, total: 4.78 s\n",
      "Wall time: 799 ms\n"
     ]
    }
   ],
   "source": [
    "%%time\n",
    "dict_features = {}\n",
    "# Запомним соответсвие между номером признака и его порядкового номера\n",
    "for num,value in enumerate(grid_Logreg.best_estimator_.coef_[0]):\n",
    "    dict_features[num] = value\n",
    "# Отсортируем веса и возьмем 40 самых больших\n",
    "sorted_features = sorted(dict_features.items(), key = lambda x:x[1])[::-1][:40]\n",
    "best_40_features = [i for i,_ in sorted_features]\n",
    "\n",
    "# Создадим скор функции, чтобы использовать ее в подборе параметра\n",
    "pr_score = make_scorer(pr_auc,needs_proba=True,greater_is_better=True)\n",
    "# Инициализируем \n",
    "Logreg = LogisticRegression(max_iter=1000)\n",
    "# Зададим диапазон перебора параметра\n",
    "parametrs_Logreg = {'C':[0.001]}\n",
    "# Инициализируем кросс-валидационный перебор параметра\n",
    "grid_Logreg = GridSearchCV(Logreg,parametrs_Logreg,scoring=pr_score)\n",
    "# Обучим модель\n",
    "grid_Logreg.fit(X_dummy_train.iloc[:,best_40_features],y_train)\n",
    "# Посмотрим на результат \n",
    "print('Полощадь под кривой PR на тествовой выборке равна:', grid_Logreg.score(X_dummy_test.iloc[:,best_40_features],y_test))"
   ]
  },
  {
   "cell_type": "markdown",
   "metadata": {},
   "source": [
    "Качество сильно просело"
   ]
  },
  {
   "cell_type": "markdown",
   "metadata": {},
   "source": [
    "А теперь давайте подумаем, что мы не учли. Мы предположили, что признаки вносят вклад равномерно, но не учли их масштаба. Если мы умножим один из признаков в 100 раз, то без учёта регуляризации его вес уменьшится в эти же 100 раз. А мы на основе этого отбираем признаки! Давайте сначала отмасштабируем признаки одним из способов, а только потом будем удалять признаки. \n",
    "\n",
    "Кстати, в таком случае надо пересчитать качество на всех признаках (сделайте это ниже). Если вы сделали нормирование признаков в самом начале, то попробуйте отобрать признаки на неотмасштабированных данных.\n",
    "\n",
    "Что получилось?"
   ]
  },
  {
   "cell_type": "code",
   "execution_count": 56,
   "metadata": {},
   "outputs": [],
   "source": [
    "# Подготовим переменные с численными и категориальными признаками\n",
    "numeric = X_dummy_train.iloc[:,range(9)].columns.tolist()\n",
    "cat_ohe = X_dummy_train.iloc[:,range(9,62)].columns.tolist()"
   ]
  },
  {
   "cell_type": "code",
   "execution_count": 57,
   "metadata": {
    "scrolled": true
   },
   "outputs": [
    {
     "name": "stdout",
     "output_type": "stream",
     "text": [
      "Полощадь под кривой PR на тествовой выборке равна: 0.440769331438319\n"
     ]
    }
   ],
   "source": [
    "# Численные признаки отнормируем, а остольные не будем трогать\n",
    "preprocessor = ColumnTransformer(\n",
    "    transformers=[\n",
    "        ('num', StandardScaler(), numeric),\n",
    "        ('cat', 'passthrough', cat_ohe)])\n",
    "\n",
    "steps = [('stand',preprocessor), ('model', LogisticRegression(max_iter=1000))]\n",
    "LGREG = Pipeline(steps=steps)\n",
    "\n",
    "# Создадим скор функции, чтобы использовать ее в подборе параметра\n",
    "pr_score = make_scorer(pr_auc,needs_proba=True,greater_is_better=True)\n",
    "# Зададим диапазон перебора параметра\n",
    "parametrs_Logreg = {'model__C':[0.001]}\n",
    "# Инициализируем кросс-валидационный перебор параметра\n",
    "grid_Logreg = GridSearchCV(LGREG,parametrs_Logreg,scoring=pr_score)\n",
    "# Обучим модель\n",
    "grid_Logreg.fit(X_dummy_train,y_train)\n",
    "# Посмотрим на результат \n",
    "print('Полощадь под кривой PR на тествовой выборке равна:', grid_Logreg.score(X_dummy_test,y_test))"
   ]
  },
  {
   "cell_type": "code",
   "execution_count": 58,
   "metadata": {},
   "outputs": [
    {
     "name": "stdout",
     "output_type": "stream",
     "text": [
      "Полощадь под кривой PR на тествовой выборке равна: 0.41276607197783144\n",
      "CPU times: user 2.1 s, sys: 79.1 ms, total: 2.18 s\n",
      "Wall time: 365 ms\n"
     ]
    }
   ],
   "source": [
    "%%time\n",
    "dict_features = {}\n",
    "# Запомним соответсвие между номером признака и его порядкового номера\n",
    "for num,value in enumerate(grid_Logreg.best_estimator_['model'].coef_[0]):\n",
    "    dict_features[num] = value\n",
    "# Отсортируем веса и возьмем 40 самых больших\n",
    "sorted_features = sorted(dict_features.items(), key = lambda x:x[1])[::-1][:40]\n",
    "best_40_features = [i for i,_ in sorted_features]\n",
    "steps = [('stand',StandardScaler()), ('model', LogisticRegression(max_iter=1000))]\n",
    "LGREG = Pipeline(steps=steps)\n",
    "\n",
    "# Создадим скор функции, чтобы использовать ее в подборе параметра\n",
    "pr_score = make_scorer(pr_auc,needs_proba=True,greater_is_better=True)\n",
    "# Зададим диапазон перебора параметра\n",
    "parametrs_Logreg = {'model__C':[0.001]}\n",
    "# Инициализируем кросс-валидационный перебор параметра\n",
    "grid_Logreg = GridSearchCV(LGREG,parametrs_Logreg,scoring=pr_score)\n",
    "# Обучим модель\n",
    "grid_Logreg.fit(X_dummy_train.iloc[:,best_40_features],y_train)\n",
    "# Посмотрим на результат \n",
    "print('Полощадь под кривой PR на тествовой выборке равна:', grid_Logreg.score(X_dummy_test.iloc[:,best_40_features],y_test))"
   ]
  },
  {
   "cell_type": "markdown",
   "metadata": {},
   "source": [
    "Лучше, чем без нормализации, но хуже чем без отбора признаков"
   ]
  },
  {
   "cell_type": "markdown",
   "metadata": {},
   "source": [
    "Вопрос на засыпку: one-hot кодирование возвращает нам единичные признаки-индикаторы. Попробуйте также отскалировать их, как и обычные числовые, и снова выбрать 40 главных по вкладу признаков. Изменился ли их список? Изменится ли качество?"
   ]
  },
  {
   "cell_type": "code",
   "execution_count": 59,
   "metadata": {},
   "outputs": [
    {
     "name": "stdout",
     "output_type": "stream",
     "text": [
      "Полощадь под кривой PR на тествовой выборке равна: 0.44968247079877305\n"
     ]
    }
   ],
   "source": [
    "steps = [('stand',StandardScaler()), ('model', LogisticRegression(max_iter=1000))]\n",
    "LGREG = Pipeline(steps=steps)\n",
    "\n",
    "# Создадим скор функции, чтобы использовать ее в подборе параметра\n",
    "pr_score = make_scorer(pr_auc,needs_proba=True,greater_is_better=True)\n",
    "# Зададим диапазон перебора параметра\n",
    "parametrs_Logreg = {'model__C':[0.001]}\n",
    "# Инициализируем кросс-валидационный перебор параметра\n",
    "grid_Logreg = GridSearchCV(LGREG,parametrs_Logreg,scoring=pr_score)\n",
    "# Обучим модель\n",
    "grid_Logreg.fit(X_dummy_train,y_train)\n",
    "# Посмотрим на результат \n",
    "print('Полощадь под кривой PR на тествовой выборке равна:', grid_Logreg.score(X_dummy_test,y_test))"
   ]
  },
  {
   "cell_type": "code",
   "execution_count": 60,
   "metadata": {},
   "outputs": [
    {
     "name": "stdout",
     "output_type": "stream",
     "text": [
      "Полощадь под кривой PR на тествовой выборке равна: 0.4148388445182705\n",
      "CPU times: user 2.21 s, sys: 96.3 ms, total: 2.31 s\n",
      "Wall time: 387 ms\n"
     ]
    }
   ],
   "source": [
    "%%time\n",
    "dict_features = {}\n",
    "# Запомним соответсвие между номером признака и его порядкового номера\n",
    "for num,value in enumerate(grid_Logreg.best_estimator_['model'].coef_[0]):\n",
    "    dict_features[num] = value\n",
    "# Отсортируем веса и возьмем 40 самых больших\n",
    "sorted_features = sorted(dict_features.items(), key = lambda x:x[1])[::-1][:40]\n",
    "best_40_features = [i for i,_ in sorted_features]\n",
    "steps = [('stand',StandardScaler()), ('model', LogisticRegression(max_iter=1000))]\n",
    "LGREG = Pipeline(steps=steps)\n",
    "\n",
    "# Создадим скор функции, чтобы использовать ее в подборе параметра\n",
    "pr_score = make_scorer(pr_auc,needs_proba=True,greater_is_better=True)\n",
    "# Зададим диапазон перебора параметра\n",
    "parametrs_Logreg = {'model__C':[0.001]}\n",
    "# Инициализируем кросс-валидационный перебор параметра\n",
    "grid_Logreg = GridSearchCV(LGREG,parametrs_Logreg,scoring=pr_score)\n",
    "# Обучим модель\n",
    "grid_Logreg.fit(X_dummy_train.iloc[:,best_40_features],y_train)\n",
    "# Посмотрим на результат \n",
    "print('Полощадь под кривой PR на тествовой выборке равна:', grid_Logreg.score(X_dummy_test.iloc[:,best_40_features],y_test))"
   ]
  },
  {
   "cell_type": "markdown",
   "metadata": {},
   "source": [
    "Метрика выросла "
   ]
  },
  {
   "cell_type": "markdown",
   "metadata": {},
   "source": [
    "### Методы фильтрации\n",
    "\n",
    "\n",
    "Давайте отбирать признаки умнее, а именно через подсчёт некоторой функции для каждого признака. На основании значений этой функции будем оставлять наиболее важные признаки. Методы этого семейства называют фильтрующими или  filter methods. \n",
    "\n",
    "В качестве такой функции будем считать t-статистику:\n",
    "\n",
    "$$t(j) = \\frac{|\\mu_+ - \\mu_-|}{\\sqrt{\\frac{n_+ \\sigma^2_+ + n_- \\sigma^2_-}{n_+ + n_-}}},$$\n",
    "\n",
    "где $\\mu$, $\\sigma$, $n$ соответственно среднее, стандартное отклонение и количество объектов каждого из классов.\n",
    "\n",
    "__Задание 9 (0.5 балла).__ Оставьте 40 признаков с наибольшим значением $t$ и замерьте качество. Не забудьте замерить скорость отбора признаков в этом случае.\n",
    "\n"
   ]
  },
  {
   "cell_type": "code",
   "execution_count": 61,
   "metadata": {},
   "outputs": [],
   "source": [
    "def filter_function(X_train,y_train):\n",
    "    \"\"\"\n",
    "    Функция вычисления t статистики\n",
    "    \"\"\"\n",
    "    grouped = X_train.merge(y_train,left_index=True,right_index=True).groupby('y')\n",
    "    mean_neg = grouped.mean().iloc[0]\n",
    "    mean_pos = grouped.mean().iloc[1]\n",
    "    std_neg = grouped.std().iloc[0]\n",
    "    std_pos = grouped.std().iloc[1]\n",
    "    count_neg = grouped.count().iloc[0]\n",
    "    count_pos = grouped.count().iloc[1]\n",
    "    t = np.abs(mean_pos - mean_neg)/np.sqrt((count_pos*std_pos**2 + count_neg*std_neg**2)/(count_pos+count_neg))\n",
    "    return t\n",
    "    "
   ]
  },
  {
   "cell_type": "code",
   "execution_count": 62,
   "metadata": {},
   "outputs": [
    {
     "name": "stdout",
     "output_type": "stream",
     "text": [
      "Полощадь под кривой PR на тествовой выборке равна: 0.4493070405938797\n",
      "CPU times: user 3.39 s, sys: 133 ms, total: 3.53 s\n",
      "Wall time: 594 ms\n"
     ]
    }
   ],
   "source": [
    "%%time\n",
    "# Отсортируем статистики и возьмем 40 самых больших\n",
    "dict_top40_features = sorted(filter_function(X_dummy_train,y_train).to_dict().items(), key = lambda x: x[1])[::-1][:40]\n",
    "columns_top40 = [i for i,_ in dict_top40_features]\n",
    "steps = [('stand',StandardScaler()), ('model', LogisticRegression(max_iter=1000))]\n",
    "LGREG = Pipeline(steps=steps)\n",
    "\n",
    "# Создадим скор функции, чтобы использовать ее в подборе параметра\n",
    "pr_score = make_scorer(pr_auc,needs_proba=True,greater_is_better=True)\n",
    "# Зададим диапазон перебора параметра\n",
    "parametrs_Logreg = {'model__C':[0.001]}\n",
    "# Инициализируем кросс-валидационный перебор параметра\n",
    "grid_Logreg = GridSearchCV(LGREG,parametrs_Logreg,scoring=pr_score)\n",
    "# Обучим модель\n",
    "grid_Logreg.fit(X_dummy_train.loc[:,columns_top40],y_train)\n",
    "# Посмотрим на результат \n",
    "print('Полощадь под кривой PR на тествовой выборке равна:', grid_Logreg.score(X_dummy_test.loc[:,columns_top40],y_test))"
   ]
  },
  {
   "cell_type": "markdown",
   "metadata": {},
   "source": [
    "Качество значительно выросло, причем это заняло крайне мало времени"
   ]
  },
  {
   "cell_type": "markdown",
   "metadata": {},
   "source": [
    "### Методы-обёртки\n",
    "\n",
    "__Задание 10 (1 балл).__ \n",
    "\n",
    "Третий из рассматриваемых нами методов работает следующим образом: мы исключаем по очереди один из признаков и смотрим, как это влияет на качество. Удаляем признаки таким жадным способом, пока не окажется выполненым некоторое условие (количество признаков или ухудшение качества).\n",
    "\n",
    "Заметим, что нельзя оценивать качество по тестовой выборке, иначе мы можем переобучиться, как, например, при настройке гиперпараметров. Разделите обучающую выборку на 2 части, на одной из них обучайте модель без одного из признаков,  на второй части оценивайте качество. Исходную тестовую выборку стоит использовать только для финальной оценки качества.\n",
    "\n",
    "Снова оставьте только 40 признаков и оцените качество на тестовой выборке. Сколько времени занял такой отбор признаков?"
   ]
  },
  {
   "cell_type": "code",
   "execution_count": 63,
   "metadata": {},
   "outputs": [],
   "source": [
    "# Разделим выборку на 2 части 22950 в первой и 10000 во второй\n",
    "X_dummy_train_part1 = X_dummy_train.iloc[:22950,:]\n",
    "X_dummy_train_part2 = X_dummy_train.iloc[22950:,:]\n",
    "y_train_part1 = y_train.iloc[:22950]\n",
    "y_train_part2 = y_train.iloc[22950:]\n",
    "# Проверим, что разделение прошло корректно\n",
    "assert X_dummy_train_part1.index.tolist() == y_train_part1.index.tolist()\n",
    "assert X_dummy_train_part2.index.tolist() == y_train_part2.index.tolist()"
   ]
  },
  {
   "cell_type": "code",
   "execution_count": 64,
   "metadata": {},
   "outputs": [
    {
     "name": "stdout",
     "output_type": "stream",
     "text": [
      "Полощадь под кривой PR на тествовой выборке равна: 0.44968247079877305\n"
     ]
    }
   ],
   "source": [
    "steps = [('stand',StandardScaler()), ('model', LogisticRegression(max_iter=1000))]\n",
    "LGREG = Pipeline(steps=steps)\n",
    "\n",
    "# Создадим скор функции, чтобы использовать ее в подборе параметра\n",
    "pr_score = make_scorer(pr_auc,needs_proba=True,greater_is_better=True)\n",
    "# Зададим диапазон перебора параметра\n",
    "parametrs_Logreg = {'model__C':[0.001]}\n",
    "# Инициализируем кросс-валидационный перебор параметра\n",
    "grid_Logreg = GridSearchCV(LGREG,parametrs_Logreg,scoring=pr_score)\n",
    "# Обучим модель\n",
    "grid_Logreg.fit(X_dummy_train,y_train)\n",
    "# Посмотрим на результат \n",
    "print('Полощадь под кривой PR на тествовой выборке равна:', grid_Logreg.score(X_dummy_test,y_test))"
   ]
  },
  {
   "cell_type": "code",
   "execution_count": 65,
   "metadata": {},
   "outputs": [
    {
     "name": "stdout",
     "output_type": "stream",
     "text": [
      "В этот раз мы удалили month_oct,после удаления этого столбца метрика изменилась на -0.004694839733927869\n",
      "В этот раз мы удалили cons.conf.idx,после удаления этого столбца метрика изменилась на -0.00136677708261973\n",
      "В этот раз мы удалили month_may,после удаления этого столбца метрика изменилась на 0.0011078551474785203\n",
      "В этот раз мы удалили job_student,после удаления этого столбца метрика изменилась на 0.0025099518325090164\n",
      "В этот раз мы удалили month_sep,после удаления этого столбца метрика изменилась на 0.004169248917493096\n",
      "В этот раз мы удалили poutcome_success,после удаления этого столбца метрика изменилась на 0.005116571163874928\n",
      "В этот раз мы удалили education_university.degree,после удаления этого столбца метрика изменилась на 0.005512616765562417\n",
      "В этот раз мы удалили education_high.school,после удаления этого столбца метрика изменилась на 0.006451819487399313\n",
      "В этот раз мы удалили education_basic.4y,после удаления этого столбца метрика изменилась на 0.006913843514723128\n",
      "В этот раз мы удалили job_unknown,после удаления этого столбца метрика изменилась на 0.007088175264268248\n",
      "В этот раз мы удалили housing_yes,после удаления этого столбца метрика изменилась на 0.007202315484432564\n",
      "В этот раз мы удалили housing_no,после удаления этого столбца метрика изменилась на 0.007396216013240808\n",
      "В этот раз мы удалили job_blue-collar,после удаления этого столбца метрика изменилась на 0.007679579299245676\n",
      "В этот раз мы удалили job_technician,после удаления этого столбца метрика изменилась на 0.007919491588426697\n",
      "В этот раз мы удалили education_unknown,после удаления этого столбца метрика изменилась на 0.008114364022264342\n",
      "В этот раз мы удалили day_of_week_thu,после удаления этого столбца метрика изменилась на 0.00836583657691975\n",
      "В этот раз мы удалили job_unemployed,после удаления этого столбца метрика изменилась на 0.008429622561411665\n",
      "В этот раз мы удалили marital_unknown,после удаления этого столбца метрика изменилась на 0.008545985139071177\n",
      "В этот раз мы удалили poutcome_nonexistent,после удаления этого столбца метрика изменилась на 0.008641218750884694\n",
      "В этот раз мы удалили marital_divorced,после удаления этого столбца метрика изменилась на 0.00868885755887766\n",
      "В этот раз мы удалили loan_no,после удаления этого столбца метрика изменилась на 0.008708067301013811\n",
      "В этот раз мы удалили loan_yes,после удаления этого столбца метрика изменилась на 0.008776841554822334\n",
      "CPU times: user 37min 35s, sys: 1min 28s, total: 39min 4s\n",
      "Wall time: 6min 32s\n"
     ]
    }
   ],
   "source": [
    "%%time\n",
    "# Возмем стартовую точку равную площади под PR на логистической регресии без отбора признаков\n",
    "start_score = 0.44968247079877305\n",
    "all_columns = X_dummy_train_part1.columns.tolist()\n",
    "\n",
    "while len(all_columns) > 40:\n",
    "    delta_dict = {}\n",
    "    for i in all_columns:\n",
    "        temp_columns = all_columns.copy()\n",
    "        temp_columns.remove(i)\n",
    "        # Создадим скор функции, чтобы использовать ее в подборе параметра\n",
    "        pr_score = make_scorer(pr_auc,needs_proba=True,greater_is_better=True)\n",
    "        # Зададим диапазон перебора параметра\n",
    "        parametrs_Logreg = {'model__C':[0.001]}\n",
    "        # Инициализируем кросс-валидационный перебор параметра\n",
    "        grid_Logreg = GridSearchCV(LGREG,parametrs_Logreg,scoring=pr_score)\n",
    "        # Обучим модель\n",
    "        grid_Logreg.fit(X_dummy_train_part1.loc[:,temp_columns],y_train_part1)\n",
    "        # Посмотрим на результат \n",
    "        score_train_part = grid_Logreg.score(X_dummy_train_part2.loc[:,temp_columns],y_train_part2)\n",
    "        delta_dict[i] = score_train_part - start_score\n",
    "#         print(f'Полощадь под кривой PR на тествовой выборке без столбца {i} равна:', score_train_part)\n",
    "\n",
    "    column_to_del = sorted(delta_dict.items(),key = lambda x: x[1])[::-1][0]\n",
    "    print(f'В этот раз мы удалили {column_to_del[0]},после удаления этого столбца метрика изменилась на {column_to_del[1]}')\n",
    "    all_columns.remove(column_to_del[0])"
   ]
  },
  {
   "cell_type": "code",
   "execution_count": 66,
   "metadata": {},
   "outputs": [
    {
     "name": "stdout",
     "output_type": "stream",
     "text": [
      "Полощадь под кривой PR на тествовой выборке равна: 0.4494151803577282\n"
     ]
    }
   ],
   "source": [
    "steps = [('stand',StandardScaler()), ('model', LogisticRegression(max_iter=1000))]\n",
    "LGREG = Pipeline(steps=steps)\n",
    "\n",
    "# Создадим скор функции, чтобы использовать ее в подборе параметра\n",
    "pr_score = make_scorer(pr_auc,needs_proba=True,greater_is_better=True)\n",
    "# Зададим диапазон перебора параметра\n",
    "parametrs_Logreg = {'model__C':[0.001]}\n",
    "# Инициализируем кросс-валидационный перебор параметра\n",
    "grid_Logreg = GridSearchCV(LGREG,parametrs_Logreg,scoring=pr_score)\n",
    "# Обучим модель\n",
    "grid_Logreg.fit(X_dummy_train.loc[:,all_columns],y_train)\n",
    "# Посмотрим на результат \n",
    "print('Полощадь под кривой PR на тествовой выборке равна:', grid_Logreg.score(X_dummy_test.loc[:,all_columns],y_test))"
   ]
  },
  {
   "cell_type": "markdown",
   "metadata": {},
   "source": [
    "Выбросили 22 признака, а потеряли примерно только 0.0002 от метрики"
   ]
  },
  {
   "cell_type": "markdown",
   "metadata": {},
   "source": [
    "Стоит отметить, что с помощью такого метода можно пойти и в обратную сторону. Попробуйте _добавлять_ по одному самому полезному признаку в выборку до тех пор, пока не наберется 40 штук. Найдется ли порог, при котором добавление следующих признаков будет только ухудшать качество модели?"
   ]
  },
  {
   "cell_type": "code",
   "execution_count": 67,
   "metadata": {},
   "outputs": [
    {
     "name": "stdout",
     "output_type": "stream",
     "text": [
      "В этот раз мы добавили default_yes,после добавления этого столбца метрика изменилась на 0.55725\n",
      "В этот раз мы добавили job_unknown,после добавления этого столбца метрика изменилась на -0.003581524504718936\n",
      "В этот раз мы добавили job_housemaid,после добавления этого столбца метрика изменилась на -0.009818435482707222\n",
      "В этот раз мы добавили job_entrepreneur,после добавления этого столбца метрика изменилась на -0.012215907848204921\n",
      "В этот раз мы добавили education_basic.6y,после добавления этого столбца метрика изменилась на -0.011949772575017503\n",
      "В этот раз мы добавили job_self-employed,после добавления этого столбца метрика изменилась на -0.015853564780008544\n",
      "В этот раз мы добавили job_services,после добавления этого столбца метрика изменилась на -0.027511583045229215\n",
      "В этот раз мы добавили default_unknown,после добавления этого столбца метрика изменилась на -0.022454800340656333\n",
      "В этот раз мы добавили job_management,после добавления этого столбца метрика изменилась на -0.024926612919496882\n",
      "В этот раз мы добавили month_nov,после добавления этого столбца метрика изменилась на -0.02293263590191169\n",
      "В этот раз мы добавили poutcome_success,после добавления этого столбца метрика изменилась на -0.018105060486903135\n",
      "В этот раз мы добавили nr.employed,после добавления этого столбца метрика изменилась на 0.03258483070643459\n",
      "В этот раз мы добавили contact_telephone,после добавления этого столбца метрика изменилась на 0.008670338850685744\n",
      "В этот раз мы добавили month_may,после добавления этого столбца метрика изменилась на 0.005509045303945526\n",
      "В этот раз мы добавили day_of_week_mon,после добавления этого столбца метрика изменилась на 0.0032333292467132124\n",
      "В этот раз мы добавили poutcome_failure,после добавления этого столбца метрика изменилась на 0.0020462652691017325\n",
      "В этот раз мы добавили previous,после добавления этого столбца метрика изменилась на 0.0025188038195397278\n",
      "В этот раз мы добавили month_dec,после добавления этого столбца метрика изменилась на 0.0019079837829696356\n",
      "В этот раз мы добавили job_retired,после добавления этого столбца метрика изменилась на 0.0015907728974159374\n",
      "В этот раз мы добавили euribor3m,после добавления этого столбца метрика изменилась на 0.0009555119855734762\n",
      "В этот раз мы добавили contact_cellular,после добавления этого столбца метрика изменилась на 0.0010916087984346179\n",
      "В этот раз мы добавили month_jul,после добавления этого столбца метрика изменилась на 0.0007643099036277468\n",
      "В этот раз мы добавили job_admin.,после добавления этого столбца метрика изменилась на 0.0007766804932828331\n",
      "В этот раз мы добавили day_of_week_wed,после добавления этого столбца метрика изменилась на 0.0004054696006990932\n",
      "В этот раз мы добавили education_basic.9y,после добавления этого столбца метрика изменилась на 0.00045845452797127484\n",
      "В этот раз мы добавили day_of_week_tue,после добавления этого столбца метрика изменилась на 0.00013157378938560838\n",
      "В этот раз мы добавили month_jun,после добавления этого столбца метрика изменилась на 0.00014939894177806723\n",
      "В этот раз мы добавили education_basic.4y,после добавления этого столбца метрика изменилась на 0.0003763366672414059\n",
      "В этот раз мы добавили pdays,после добавления этого столбца метрика изменилась на 0.00018097995665466993\n",
      "В этот раз мы добавили day_of_week_fri,после добавления этого столбца метрика изменилась на 0.00044632396344240766\n",
      "В этот раз мы добавили education_unknown,после добавления этого столбца метрика изменилась на 0.00018284353661174313\n",
      "В этот раз мы добавили poutcome_nonexistent,после добавления этого столбца метрика изменилась на 0.0001607501889964169\n",
      "В этот раз мы добавили education_professional.course,после добавления этого столбца метрика изменилась на 9.839662323324339e-05\n",
      "В этот раз мы добавили age,после добавления этого столбца метрика изменилась на -2.234370135989483e-05\n",
      "В этот раз мы добавили default_no,после добавления этого столбца метрика изменилась на 8.811713845152669e-05\n",
      "В этот раз мы добавили marital_divorced,после добавления этого столбца метрика изменилась на 6.93541464732994e-05\n",
      "В этот раз мы добавили job_unemployed,после добавления этого столбца метрика изменилась на 3.084366235611702e-05\n",
      "В этот раз мы добавили education_illiterate,после добавления этого столбца метрика изменилась на -5.7933351738481687e-05\n",
      "В этот раз мы добавили month_aug,после добавления этого столбца метрика изменилась на -0.00011702869333912735\n",
      "В этот раз мы добавили day_of_week_thu,после добавления этого столбца метрика изменилась на -1.6839332345863767e-05\n",
      "CPU times: user 23min 28s, sys: 35 s, total: 24min 3s\n",
      "Wall time: 4min 1s\n"
     ]
    }
   ],
   "source": [
    "%%time\n",
    "# Возмем стартовую точку равную площади под PR на логистической регресии без отбора признаков\n",
    "start_score = 0\n",
    "all_columns = X_dummy_train_part1.columns.tolist()\n",
    "curr_columns = []\n",
    "while len(curr_columns) < 40:\n",
    "    delta_dict = {}\n",
    "    for i in all_columns:\n",
    "        temp_columns = curr_columns.copy()\n",
    "        temp_columns +=[i]\n",
    "        # Создадим скор функции, чтобы использовать ее в подборе параметра\n",
    "        pr_score = make_scorer(pr_auc,needs_proba=True,greater_is_better=True)\n",
    "        # Зададим диапазон перебора параметра\n",
    "        parametrs_Logreg = {'model__C':[0.001]}\n",
    "        # Инициализируем кросс-валидационный перебор параметра\n",
    "        grid_Logreg = GridSearchCV(LGREG,parametrs_Logreg,scoring=pr_score)\n",
    "        # Обучим модель\n",
    "        grid_Logreg.fit(X_dummy_train_part1.loc[:,temp_columns],y_train_part1)\n",
    "        # Посмотрим на результат \n",
    "        score_train_part = grid_Logreg.score(X_dummy_train_part2.loc[:,temp_columns],y_train_part2)\n",
    "        delta_dict[i] = score_train_part - start_score\n",
    "        temp_columns.remove(i)\n",
    "#         print(f'Полощадь под кривой PR на тествовой выборке без столбца {i} равна:', score_train_part)\n",
    "\n",
    "    column_to_del = sorted(delta_dict.items(),key = lambda x: x[1])[::-1][0]\n",
    "    print(f'В этот раз мы добавили {column_to_del[0]},после добавления этого столбца метрика изменилась на {column_to_del[1]}')\n",
    "    curr_columns += [column_to_del[0]]\n",
    "    start_score += column_to_del[1]\n",
    "    all_columns.remove(column_to_del[0])"
   ]
  },
  {
   "cell_type": "code",
   "execution_count": 68,
   "metadata": {},
   "outputs": [
    {
     "name": "stdout",
     "output_type": "stream",
     "text": [
      "Полощадь под кривой PR на тествовой выборке равна: 0.4410505831457142\n"
     ]
    }
   ],
   "source": [
    "steps = [('stand',StandardScaler()), ('model', LogisticRegression(max_iter=1000))]\n",
    "LGREG = Pipeline(steps=steps)\n",
    "\n",
    "# Создадим скор функции, чтобы использовать ее в подборе параметра\n",
    "pr_score = make_scorer(pr_auc,needs_proba=True,greater_is_better=True)\n",
    "# Зададим диапазон перебора параметра\n",
    "parametrs_Logreg = {'model__C':[0.001]}\n",
    "# Инициализируем кросс-валидационный перебор параметра\n",
    "grid_Logreg = GridSearchCV(LGREG,parametrs_Logreg,scoring=pr_score)\n",
    "# Обучим модель\n",
    "grid_Logreg.fit(X_dummy_train.loc[:,curr_columns],y_train)\n",
    "# Посмотрим на результат \n",
    "print('Полощадь под кривой PR на тествовой выборке равна:', grid_Logreg.score(X_dummy_test.loc[:,curr_columns],y_test))"
   ]
  },
  {
   "cell_type": "markdown",
   "metadata": {},
   "source": [
    "Давайте подведём итоги по отбору признаков. Назовите преимущества и недостатки каждого из методов. Какой метод привёл к наилучшему качеству?\n",
    "\n",
    "**Ответ:** Лучше всего себя показал метод удаления признаков, он сильно дольше (у меня работал порядка 5 минут). Вторым после него идет метод с t статистикой, он предоставил нам  значение площади и практически всего на 0.001 отличающееся от первого метода при этом у него минимальное время работы. Метод добавления признаков тоже неплох, но при его использовании скор просел гораздо сильнее порядка 0.008, но у него есть неоспоримый плюс, как можно заметить в логах последние 3 шага из 40 только ухудшали скор, соответственно их можно не делать. Методы обработки по коэффициенту логистической регрессии показали себя сильно хуже по метрике"
   ]
  },
  {
   "cell_type": "markdown",
   "metadata": {},
   "source": [
    "**Отбор признаков завершен**\n",
    "<img src = \"https://media.giphy.com/media/750o1RprTNj8ldkwak/giphy.gif\">"
   ]
  },
  {
   "cell_type": "markdown",
   "metadata": {},
   "source": [
    "# Часть 3. Оценка экономического эффекта модели\n",
    "\n",
    "В данной части мы займемся тем, что от вас скорее всего потребуется на реальной работе (помимо перекладки `json`, разумеется). А именно: мы соберем несколько специализированных метрик качества, попытаемся настроить модель на максимизацию _прибыли_ и оценим, сколько вообще получится заработать на этом. Разумеется, здесь будет сделано множество упрощающих жизнь допущений, но обо всем по порядку. \n",
    "\n",
    "__Задание 11 (1 балл).__ Допустим, работники вашего колл-центра получают за один звонок клиенту 1 доллар. При согласии клиента на предлагаемые условия он принесет в банк 10 долларов.\n",
    "\n",
    "Если вы всё прослушали на экономике, то напомним, что выручка — это сколько денег нам принесли клиенты, а прибыль — выручка за вычетом расходов на зарплату и прочее.\n",
    "\n",
    "Загрузите данные о телемаркетинге из предыдущего блока заданий. В этой части не нужно делить выборку - мы будем использовать кросс-валидацию. Используйте 5 фолдов, сделайте `shuffle=True, random_state=500`. По кросс-валидации у вас получится 5 вариантов обучающей и тестовой выборки. Обучите логистическую регрессию на каждой обучающей выборке (воспользуйтесь one-hot для категориальных признаков, гиперпараметры оставьте со значениями по умолчанию) и сделайте предсказания для соответствующих тестовых выборок. Допустим, всем положительным прогнозам ваши сотрудники решили позвонить. Посчитайте на всех тестовых выборках выручку и усредните. Сколько денег вы в среднем заработаете? Также вычислите стандартное отклонение.\n",
    "\n",
    "Сколько из заработанных денег придётся отдать операторам вашего колл-центра?"
   ]
  },
  {
   "cell_type": "code",
   "execution_count": 69,
   "metadata": {},
   "outputs": [],
   "source": [
    "df = pd.read_csv('bank-additional/bank-additional-full.csv', sep=';')\n",
    "\n",
    "X = df.drop(columns=['duration', 'y'])\n",
    "y = (df.y == 'yes')\n",
    "KF = KFold(n_splits=5,shuffle=True,random_state=500)"
   ]
  },
  {
   "cell_type": "code",
   "execution_count": 70,
   "metadata": {},
   "outputs": [
    {
     "name": "stdout",
     "output_type": "stream",
     "text": [
      "Средняя выручка: 2130.0\n",
      "Средний расход: 323.6\n",
      "Среднияя прибыль: 1806.4\n",
      "Стандартное отклонение от выручки: 102.37187113655781\n",
      "Стандартное отклонение от расхода: 7.812809993849843\n",
      "Стандартное отклонение от прибыли: 104.56117826421047\n"
     ]
    }
   ],
   "source": [
    "# Закодируем выборку\n",
    "X_dummy = pd.get_dummies(X)\n",
    "# Составим пайплайн\n",
    "steps = [('stand',StandardScaler()), ('model', LogisticRegression(max_iter=1000))]\n",
    "LGREG = Pipeline(steps=steps)\n",
    "# Инициализируем переменные для хранения\n",
    "all_revenue = []\n",
    "all_expenses = []\n",
    "# Перебираемся по фолдам\n",
    "for train_index, test_index in KF.split(X_dummy):\n",
    "    # Выделяем выборки\n",
    "    X_train, X_test = X_dummy.iloc[train_index,:], X_dummy.iloc[test_index,:]\n",
    "    y_train, y_test = y[train_index], y[test_index]\n",
    "    # Создадим скор функции, чтобы использовать ее в подборе параметра\n",
    "    pr_score = make_scorer(pr_auc,needs_proba=True,greater_is_better=True)\n",
    "    # Обучим модель\n",
    "    LGREG.fit(X_train,y_train)\n",
    "    # Делаем предсказания\n",
    "    pred_y = LGREG.predict(X_test)\n",
    "    # Рассчитываем доход\n",
    "    revenue = sum((y_test&pred_y))*10\n",
    "    # Вычисляем расход\n",
    "    expenses = sum(pred_y)\n",
    "    # Запоминаем вычисленное\n",
    "    all_revenue += [revenue]\n",
    "    all_expenses += [expenses]\n",
    "print(f'Средняя выручка: {np.mean(all_revenue)}')\n",
    "print(f'Средний расход: {np.mean(all_expenses)}')\n",
    "print(f'Среднияя прибыль: {np.mean(np.array(all_revenue)-np.array(all_expenses))}')\n",
    "print(f'Стандартное отклонение от выручки: {np.std(all_revenue)}')\n",
    "print(f'Стандартное отклонение от расхода: {np.std(all_expenses)}')\n",
    "print(f'Стандартное отклонение от прибыли: {np.std(np.array(all_revenue)-np.array(all_expenses))}')"
   ]
  },
  {
   "cell_type": "markdown",
   "metadata": {},
   "source": [
    "Внесем некоторую долю случайности. Пусть теперь согласный на условия клиент будет приносить не 10 долларов, а случайную величину, равномерно распределенную в интервале $[0;20)$. Проделайте все те же самые действия. Для имитации реальной ситуации **НЕ** фиксируйте `random_seed` при подсчете выручки с клиента. Что получилось?"
   ]
  },
  {
   "cell_type": "code",
   "execution_count": 71,
   "metadata": {},
   "outputs": [
    {
     "name": "stdout",
     "output_type": "stream",
     "text": [
      "Средняя выручка: 1682.4\n",
      "Средний расход: 323.6\n",
      "Среднияя прибыль: 1358.8\n",
      "Стандартное отклонение от выручки: 776.9905018724489\n",
      "Стандартное отклонение от расхода: 7.812809993849843\n",
      "Стандартное отклонение от прибыли: 780.6477822936538\n"
     ]
    }
   ],
   "source": [
    "# Закодируем выборку\n",
    "X_dummy = pd.get_dummies(X)\n",
    "# Составим пайплайн\n",
    "steps = [('stand',StandardScaler()), ('model', LogisticRegression(max_iter=1000))]\n",
    "LGREG = Pipeline(steps=steps)\n",
    "# Инициализируем переменные для хранения\n",
    "all_revenue = []\n",
    "all_expenses = []\n",
    "# Перебираемся по фолдам\n",
    "for train_index, test_index in KF.split(X_dummy):\n",
    "    # Выделяем выборки\n",
    "    X_train, X_test = X_dummy.iloc[train_index,:], X_dummy.iloc[test_index,:]\n",
    "    y_train, y_test = y[train_index], y[test_index]\n",
    "    # Создадим скор функции, чтобы использовать ее в подборе параметра\n",
    "    pr_score = make_scorer(pr_auc,needs_proba=True,greater_is_better=True)\n",
    "    # Обучим модель\n",
    "    LGREG.fit(X_train,y_train)\n",
    "    # Делаем предсказания\n",
    "    pred_y = LGREG.predict(X_test)\n",
    "    # Рассчитываем доход\n",
    "    revenue = sum((y_test&pred_y))*np.random.randint(0,20)\n",
    "    # Вычисляем расход\n",
    "    expenses = sum(pred_y)\n",
    "    all_revenue += [revenue]\n",
    "    all_expenses += [expenses]\n",
    "print(f'Средняя выручка: {np.mean(all_revenue)}')\n",
    "print(f'Средний расход: {np.mean(all_expenses)}')\n",
    "print(f'Среднияя прибыль: {np.mean(np.array(all_revenue)-np.array(all_expenses))}')\n",
    "print(f'Стандартное отклонение от выручки: {np.std(all_revenue)}')\n",
    "print(f'Стандартное отклонение от расхода: {np.std(all_expenses)}')\n",
    "print(f'Стандартное отклонение от прибыли: {np.std(np.array(all_revenue)-np.array(all_expenses))}')"
   ]
  },
  {
   "cell_type": "markdown",
   "metadata": {},
   "source": [
    "Средняя прибыль стала более нестабильной "
   ]
  },
  {
   "cell_type": "markdown",
   "metadata": {},
   "source": [
    "Настройте по кросс-валидации коэффициент регуляризации модели для максимизации прибыли (считайте как случайную величину выше). Удалось ли получить какой-то выигрыш? При каком коэффициенте регуляризациии прибыль максимальна? Постройте график зависимости ожидаемой прибыли от коэффициента, также укажите стандартные отклонения (вам поможет `plt.errorbar`)."
   ]
  },
  {
   "cell_type": "code",
   "execution_count": 72,
   "metadata": {
    "scrolled": true
   },
   "outputs": [
    {
     "name": "stderr",
     "output_type": "stream",
     "text": [
      "100%|██████████| 15/15 [00:14<00:00,  1.00it/s]"
     ]
    },
    {
     "name": "stdout",
     "output_type": "stream",
     "text": [
      "CPU times: user 1min 27s, sys: 2.41 s, total: 1min 29s\n",
      "Wall time: 15 s\n"
     ]
    },
    {
     "name": "stderr",
     "output_type": "stream",
     "text": [
      "\n"
     ]
    }
   ],
   "source": [
    "%%time\n",
    "# Закодируем выборку\n",
    "X_dummy = pd.get_dummies(X)\n",
    "# Инициализируем переменные для хранения\n",
    "all_revenue = {}\n",
    "all_expenses = {}\n",
    "all_profit = {}\n",
    "# Перебираемся по коэффициенту регуляризации\n",
    "for reg in tqdm(np.logspace(-5,0,15)):\n",
    "    # Составим пайплайн\n",
    "    steps = [('stand',StandardScaler()), ('model', LogisticRegression(max_iter=1000,C = reg))]\n",
    "    LGREG = Pipeline(steps=steps)\n",
    "    # Перебираемся по фолдам\n",
    "    for train_index, test_index in KF.split(X_dummy):\n",
    "            # Выделяем выборки\n",
    "            X_train, X_test = X_dummy.iloc[train_index,:], X_dummy.iloc[test_index,:]\n",
    "            y_train, y_test = y[train_index], y[test_index]\n",
    "            # Создадим скор функции, чтобы использовать ее в подборе параметра\n",
    "            pr_score = make_scorer(pr_auc,needs_proba=True,greater_is_better=True)\n",
    "            # Обучим модель\n",
    "            LGREG.fit(X_train,y_train)\n",
    "            # Делаем предсказания\n",
    "            pred_y = LGREG.predict(X_test)\n",
    "            # Рассчитываем доход\n",
    "            revenue = sum((y_test&pred_y))*np.random.randint(0,20)\n",
    "            # Вычисляем расход\n",
    "            expenses = sum(pred_y)\n",
    "            # Вычисляем прибыль\n",
    "            profit = revenue - expenses\n",
    "            all_revenue[reg] = revenue\n",
    "            all_expenses[reg] = expenses\n",
    "            all_profit[reg] = profit\n"
   ]
  },
  {
   "cell_type": "code",
   "execution_count": 74,
   "metadata": {},
   "outputs": [
    {
     "name": "stdout",
     "output_type": "stream",
     "text": [
      "Стандартное отклонение прибыли: 985.6499356036886\n",
      "Лучший коэффициент равен:  0.0006105402296585327\n"
     ]
    }
   ],
   "source": [
    "sorted_profit = sorted(all_profit.items(),key = lambda x: x[1])[::-1]\n",
    "print(f'Стандартное отклонение прибыли: {np.array([i[1]for i in sorted_profit]).std()}')\n",
    "print(\"Лучший коэффициент равен: \", sorted(all_profit.items(),key = lambda x: x[1])[::-1][0][0])"
   ]
  },
  {
   "cell_type": "code",
   "execution_count": 75,
   "metadata": {},
   "outputs": [
    {
     "data": {
      "image/png": "[encoded data removed]",
      "text/plain": [
       "<Figure size 1440x576 with 1 Axes>"
      ]
     },
     "metadata": {
      "needs_background": "light"
     },
     "output_type": "display_data"
    }
   ],
   "source": [
    "# Построение графика зависимость прибыли от коэффициента регуляризации\n",
    "fig,ax = plt.subplots(figsize = (20,8))\n",
    "sorted_profit = all_profit.items()\n",
    "ax.errorbar([i[0]for i in sorted_profit],[i[1]for i in sorted_profit],yerr =np.array([i[1]for i in sorted_profit]).std() )\n",
    "plt.grid()\n",
    "ax.set_xlabel('Значение коэффициента регуляризации')\n",
    "ax.set_ylabel('Значение прибыли')\n",
    "ax.set_title('Зависимость прибыли от регуляризации');"
   ]
  },
  {
   "cell_type": "markdown",
   "metadata": {},
   "source": [
    "Попробуйте запустить перебор несколько раз. Находится ли каждый раз один и тот же \"лучший\" коэффициент? Присутствует ли какая-то закономерность? Какие вы можете сделать из этого выводы?"
   ]
  },
  {
   "cell_type": "markdown",
   "metadata": {},
   "source": [
    "Нет, коэффициенты всегда разные. В основном значения коэффициентов в районе 0.2 - 0.5. Так как в sklearn регуляризация инверсированная и мы подбираем коэффициент для слагаемого модели, то это означает что вес вносимый модели достаточно велик и нуждается в сильной регуляризации"
   ]
  },
  {
   "cell_type": "markdown",
   "metadata": {},
   "source": [
    "__Задание 12 (1 балл).__ Выше мы уже описали примерную экономическую модель вашей задачи. Как вы считаете, что для вашего бизнеса важнее — хороший precision или recall модели? Почему?\n",
    "\n",
    "__Ответ:__ Убытки нам приносят FP и FN, следовательно их кол-во стоит уменьшать, но FN стоит дороже, а значит Recall в этой задачи важнее\n",
    "\n"
   ]
  },
  {
   "cell_type": "markdown",
   "metadata": {},
   "source": [
    "Вспомним, что на самом деле логистическая регрессия предсказывает нам вероятности положительного класса для объекта. Возможно, путем настройки порога бинаризации этих вероятностей мы сможем получить какой-то выигрыш? Проверьте ваши рассуждения выше с помощью настройки порога бинаризации на кросс-валидации для максимизации прибыли. Воспользуйтесь сеткой от 0 до 1 с шагом 0.01. Напомним, что снижение порога дает нам более высокий recall и более низкий precision, и наоборот."
   ]
  },
  {
   "cell_type": "code",
   "execution_count": 76,
   "metadata": {},
   "outputs": [
    {
     "name": "stderr",
     "output_type": "stream",
     "text": [
      "5it [01:51, 22.30s/it]\n"
     ]
    }
   ],
   "source": [
    "# Закодируем выборку\n",
    "X_dummy = pd.get_dummies(X)\n",
    "# Составим пайплайн\n",
    "steps = [('stand',StandardScaler()), ('model', LogisticRegression(max_iter=1000))]\n",
    "LGREG = Pipeline(steps=steps)\n",
    "# Инициализируем переменные для хранения\n",
    "all_revenue = {}\n",
    "all_expenses = {}\n",
    "all_profit = {}\n",
    "all_recall = {}\n",
    "all_precision = {}\n",
    "# Перебираемся по фолдам\n",
    "for train_index, test_index in tqdm(KF.split(X_dummy)):\n",
    "    # Перебираемся по порогу\n",
    "    for threshold in np.arange(0,1,0.01):\n",
    "        # Выделяем выборки\n",
    "        X_train, X_test = X_dummy.iloc[train_index,:], X_dummy.iloc[test_index,:]\n",
    "        y_train, y_test = y[train_index], y[test_index]\n",
    "        # Создадим скор функции, чтобы использовать ее в подборе параметра\n",
    "        pr_score = make_scorer(pr_auc,needs_proba=True,greater_is_better=True)\n",
    "        # Обучим модель\n",
    "        LGREG.fit(X_train,y_train)\n",
    "        # Делаем предсказания\n",
    "        pred_y = LGREG.predict_proba(X_test)[:,1] > threshold\n",
    "        # Рассчитываем доход\n",
    "        revenue = sum((y_test&pred_y))*np.random.randint(0,20)\n",
    "        # Вычисляем расход\n",
    "        expenses = sum(pred_y)\n",
    "        # Вычисляем прибыль\n",
    "        profit = revenue - expenses\n",
    "        all_revenue[threshold] = revenue\n",
    "        all_expenses[threshold] = expenses\n",
    "        all_profit[threshold] = profit\n",
    "        # Вычисляем полноту\n",
    "        all_recall[threshold] = recall_score(y_test,pred_y,zero_division=0)\n",
    "        # Вычисляем точность \n",
    "        all_precision[threshold] = precision_score(y_test,pred_y,zero_division=0)"
   ]
  },
  {
   "cell_type": "code",
   "execution_count": 77,
   "metadata": {
    "scrolled": true
   },
   "outputs": [
    {
     "name": "stdout",
     "output_type": "stream",
     "text": [
      "Порог при котором максимальная прибыль: 0.1\n"
     ]
    }
   ],
   "source": [
    "print(\"Порог при котором максимальная прибыль:\", sorted(all_profit.items(),key = lambda x: x[1])[::-1][0][0])"
   ]
  },
  {
   "cell_type": "markdown",
   "metadata": {},
   "source": [
    "Как можно наблюдать, при понижении порога вырос доход => Recall важнее"
   ]
  },
  {
   "cell_type": "markdown",
   "metadata": {},
   "source": [
    "Постройте график зависимости прибыли от порога бинаризации, также отметьте на нем стандартные отклонения. Выделите наилучший порог. \n",
    "\n",
    "\n",
    "__Вопрос:__ Замечаете ли вы какую-то закономерность? Для правильного ответа на этот вопрос попробуйте запустить несколько раз и задумайтесь, почему порог получается в какой-то конкретной области?\n",
    "\n",
    "Дело в том, что 1 звонок стоит очень дешево, и 1 клиент окупает до 20 звонков, поэтому модели выгоднее большее кол-во объектов признать подходящими, окупаясь не на точности предсказания, а на количестве"
   ]
  },
  {
   "cell_type": "code",
   "execution_count": 78,
   "metadata": {},
   "outputs": [
    {
     "data": {
      "image/png": "[encoded data removed]",
      "text/plain": [
       "<Figure size 1440x576 with 1 Axes>"
      ]
     },
     "metadata": {
      "needs_background": "light"
     },
     "output_type": "display_data"
    }
   ],
   "source": [
    "# Строим график зависимости прибыли от значения коэффициента порога\n",
    "fig,ax = plt.subplots(figsize = (20,8))\n",
    "sorted_profit = all_profit.items()\n",
    "ax.errorbar([i[0]for i in sorted_profit],[i[1]for i in sorted_profit],yerr =np.array([i[1]for i in sorted_profit]).std())\n",
    "plt.grid()\n",
    "ax.set_xlabel('Значение порога бинаризации')\n",
    "ax.set_ylabel('Значение прибыли')\n",
    "ax.set_title('Зависимость прибыли от значения коэффициента порога');"
   ]
  },
  {
   "cell_type": "markdown",
   "metadata": {},
   "source": [
    "Каковы значения precision и recall на выбранном пороге? Оцените по кросс-валидации. Также вычислите стандартное отклонение."
   ]
  },
  {
   "cell_type": "code",
   "execution_count": 79,
   "metadata": {
    "scrolled": true
   },
   "outputs": [
    {
     "name": "stdout",
     "output_type": "stream",
     "text": [
      "Значение recall при пороге 0.6652935118434603\n",
      "Значение precision при пороге 0.33610822060353795\n",
      "Стандартное отклонение при оценке recall по кросс-валидации 0.27104041032941695\n",
      "Стандартное отклонение при оценке precision по кросс-валидации 0.2464629630093153\n"
     ]
    }
   ],
   "source": [
    "print('Значение recall при пороге',all_recall[sorted(all_profit.items(),key = lambda x: x[1])[::-1][0][0]])\n",
    "print('Значение precision при пороге',all_precision[sorted(all_profit.items(),key = lambda x: x[1])[::-1][0][0]])\n",
    "print('Стандартное отклонение при оценке recall по кросс-валидации',np.array(list(all_recall.values())).std())\n",
    "print('Стандартное отклонение при оценке precision по кросс-валидации',np.array(list(all_precision.values())).std())"
   ]
  },
  {
   "cell_type": "markdown",
   "metadata": {},
   "source": [
    "Как вы, вероятно, уже поняли, ваша модель склоняется к более высокому recall. Попробуйте оценить качество модели с помощью `PR-AUC` в зоне recall $\\geq$ 0.5. Сделайте это следующим образом - выберите только те пороги, на которых достигается необходимый recall, затем интерпретируйте отсеченный в единичном квадрате прямоугольник как новый единичный квадрат и посчитайте площадь под отсеченной кривой. "
   ]
  },
  {
   "cell_type": "code",
   "execution_count": 80,
   "metadata": {},
   "outputs": [],
   "source": [
    "# Получим пороги, которые подходят под условие\n",
    "good_thresholds_recall = {thr:recall for thr,recall in all_recall.items() if recall >= 0.5}\n",
    "# Получим все значения точности по выбранным порогам\n",
    "good_thresholds_precision = {thr:precision for thr,precision in all_precision.items() if thr in good_thresholds_recall.keys()}"
   ]
  },
  {
   "cell_type": "code",
   "execution_count": 81,
   "metadata": {},
   "outputs": [
    {
     "data": {
      "image/png": "[encoded data removed]",
      "text/plain": [
       "<Figure size 432x288 with 1 Axes>"
      ]
     },
     "metadata": {
      "needs_background": "light"
     },
     "output_type": "display_data"
    }
   ],
   "source": [
    "plt.plot(list(good_thresholds_recall.values()),list(good_thresholds_precision.values()))\n",
    "plt.title('PR кривая')\n",
    "plt.xlabel(\"Recall\")\n",
    "plt.ylabel('Precision')\n",
    "plt.grid()"
   ]
  },
  {
   "cell_type": "code",
   "execution_count": 82,
   "metadata": {},
   "outputs": [
    {
     "name": "stdout",
     "output_type": "stream",
     "text": [
      "Площадь под кривой в зоне recall >= 0.5 равна: 0.13005459015048648\n"
     ]
    }
   ],
   "source": [
    "print('Площадь под кривой в зоне recall >= 0.5 равна:',auc(list(good_thresholds_recall.values()),list(good_thresholds_precision.values())))"
   ]
  },
  {
   "cell_type": "markdown",
   "metadata": {},
   "source": [
    "__Бонус (0.01 балла):__ что вы кушали в день сдачи данного ДЗ на завтрак?\n",
    "\n",
    "__Ответ:__ Фаршированные перцы "
   ]
  },
  {
   "cell_type": "markdown",
   "metadata": {},
   "source": [
    "__Социализационный бонус (0.1 балл).__\n",
    "Введены новые ограничения, занятия теперь дистанционные. Но это не значит, что не надо общаться с друзьями! Созвонитесь в зуме (или любым другим способом) хотя бы с двумя студентами курса МО-1 этого года, приложите скриншот созвона с включенными камерами и напишите очень кратко, на какие темы были беседы.\n",
    "\n",
    "__Ответ:__ Общались на тему того, как будем решать Хакатон и как будем разделять задачи внутри команды (все, у кого работаю камеры с МО-1)\n",
    "\n",
    "<img src = 'special_bonus.png' style = \"width: 700px\">\n",
    "\n"
   ]
  },
  {
   "cell_type": "markdown",
   "metadata": {},
   "source": [
    "__Спасибо за проверку! До встречи в измерении \"ДЗ 5\" :)__\n",
    "<img src = 'https://media.giphy.com/media/zPlGxzu027rEELiCFr/giphy.gif'>"
   ]
  }
 ],
 "metadata": {
  "kernelspec": {
   "display_name": "Python 3",
   "language": "python",
   "name": "python3"
  },
  "language_info": {
   "codemirror_mode": {
    "name": "ipython",
    "version": 3
   },
   "file_extension": ".py",
   "mimetype": "text/x-python",
   "name": "python",
   "nbconvert_exporter": "python",
   "pygments_lexer": "ipython3",
   "version": "3.8.3"
  },
  "toc": {
   "base_numbering": 1,
   "nav_menu": {},
   "number_sections": true,
   "sideBar": true,
   "skip_h1_title": false,
   "title_cell": "Содержание",
   "title_sidebar": "Contents",
   "toc_cell": true,
   "toc_position": {
    "height": "calc(100% - 180px)",
    "left": "10px",
    "top": "150px",
    "width": "445.2174072265625px"
   },
   "toc_section_display": true,
   "toc_window_display": true
  }
 },
 "nbformat": 4,
 "nbformat_minor": 4
}
